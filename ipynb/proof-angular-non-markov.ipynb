{
 "cells": [
  {
   "cell_type": "markdown",
   "metadata": {},
   "source": [
    "# Catching Heuristics Are Robust to Systematic Disturbances  and Can Be Found by Reinforcement Learning\n",
    "\n",
    "## Supplementary Material: Angular Representations Violate Markov Property (Proofs)"
   ]
  },
  {
   "cell_type": "markdown",
   "metadata": {},
   "source": [
    "This material accompanies my doctoral thesis *On Decomposability in Robot Reinforcement Learning* and the paper *Catching Heuristics Are Robust to Systematic Disturbances  and Can Be Found by Reinforcement Learning*.\n",
    "\n",
    "&copy; 2017 Sebastian Höfer\n"
   ]
  },
  {
   "cell_type": "markdown",
   "metadata": {},
   "source": [
    "The notebook provides proofs showing that the angular representations used by heuristics for ball catching are not Markov."
   ]
  },
  {
   "cell_type": "code",
   "execution_count": 2,
   "metadata": {
    "collapsed": true
   },
   "outputs": [],
   "source": [
    "import sympy as sp\n",
    "from sympy.utilities.lambdify import lambdify\n",
    "import numpy as np\n",
    "import copy\n",
    "\n",
    "sp.init_printing()"
   ]
  },
  {
   "cell_type": "code",
   "execution_count": 3,
   "metadata": {
    "collapsed": false
   },
   "outputs": [
    {
     "name": "stdout",
     "output_type": "stream",
     "text": [
      "Populating the interactive namespace from numpy and matplotlib\n"
     ]
    },
    {
     "name": "stderr",
     "output_type": "stream",
     "text": [
      "WARNING: pylab import has clobbered these variables: ['copy']\n",
      "`%matplotlib` prevents importing * from pylab and numpy\n"
     ]
    }
   ],
   "source": [
    "%pylab inline\n",
    "\n",
    "import matplotlib\n",
    "matplotlib.rcParams['ps.useafm'] = False\n",
    "matplotlib.rcParams['pdf.use14corefonts'] = False\n",
    "matplotlib.rcParams['text.usetex'] = False\n",
    "matplotlib.rcParams['figure.autolayout'] = False\n",
    "\n",
    "from matplotlib import rc\n",
    "rc('font',**{'family':'serif','serif':['Computer Modern Roman'], 'size': 24})\n",
    "\n",
    "#matplotlib.use('pdf')"
   ]
  },
  {
   "cell_type": "code",
   "execution_count": 4,
   "metadata": {
    "collapsed": false
   },
   "outputs": [
    {
     "data": {
      "image/png": "[encoded data removed]",
      "text/latex": [
       "$$\\frac{\\nu t \\sin{\\left (\\varphi \\right )} - 0.5 g t^{2}}{D + \\frac{2.0 \\nu^{2}}{g} \\sin{\\left (\\varphi \\right )} \\cos{\\left (\\varphi \\right )} - \\nu t \\cos{\\left (\\varphi \\right )}}$$"
      ],
      "text/plain": [
       "                                           2               \n",
       "               \\nu⋅t⋅sin(\\varphi) - 0.5⋅g⋅t                \n",
       "───────────────────────────────────────────────────────────\n",
       "           2                                               \n",
       "    2.0⋅\\nu ⋅sin(\\varphi)⋅cos(\\varphi)                     \n",
       "D + ────────────────────────────────── - \\nu⋅t⋅cos(\\varphi)\n",
       "                    g                                      "
      ]
     },
     "execution_count": 4,
     "metadata": {},
     "output_type": "execute_result"
    }
   ],
   "source": [
    "# HElPER FUNCTIONS\n",
    "# sympy has problems of simplifying (V^2 sin(phi)^2)^{1/2} to V sin(phi)\n",
    "def sympy_sqrt_fix(formula):\n",
    "#  return sp.simplify(formula.subs((V**2*sp.sin(phi)**2)**(0.5), V*sp.sin(phi)))\n",
    "  return sp.simplify(formula.subs(sp.sqrt( (V**2) * (sp.sin(phi))**2), V*sp.sin(phi)))\n",
    "def zero_yb0(formula, val=0):\n",
    "  return sympy_sqrt_fix(formula.subs(yb0,val))\n",
    "\n",
    "GRAVITY=9.81\n",
    "\n",
    "t, yb0, phi, V, g, vr = sp.symbols(\"t, b_{y0}, \\\\varphi, \\\\nu, g, v_r\")\n",
    "yb0 = 0 # simplify: y_b=0\n",
    "yb = V*sp.sin(phi)*t - 0.5*g*t*t + yb0\n",
    "xb = V*sp.cos(phi)*t\n",
    "\n",
    "T = sp.solve(yb, t)[1]\n",
    "R = xb.subs(t, T)\n",
    "D = sp.symbols(\"D\")\n",
    "a0 = R+D # starting position\n",
    "\n",
    "# Set-up Eq.(1) - the tan alpha(t), based on yb\n",
    "\n",
    "a = R+D   # assume is not moving\n",
    "#a = sp.symbols(\"a_0\")\n",
    "\n",
    "theta =  yb/(a-xb)\n",
    "theta"
   ]
  },
  {
   "cell_type": "markdown",
   "metadata": {},
   "source": [
    "$= \\theta_t$  (the tangent of the angle)"
   ]
  },
  {
   "cell_type": "code",
   "execution_count": 4,
   "metadata": {
    "collapsed": true
   },
   "outputs": [],
   "source": [
    "def concrete_case(formula, V_, phi_, yb0_=0):\n",
    "\tglobal GRAVITY\n",
    "\treturn formula.subs(g,GRAVITY).subs(V,V_).subs(phi,phi_).subs(yb0,yb0_)\n",
    "\n",
    "def concrete_trajectory(formula, V_, phi_, T_=None, yb0_=0, N=100, t=t):\n",
    "    if T_ is None:\n",
    "        T_ = concrete_case(T, V_, phi_, yb0_)\n",
    "        \n",
    "    time = np.linspace(0, float(T_), N)\n",
    "    res = []\n",
    "    for t_ in time:\n",
    "        res.append(concrete_case(formula, V_, phi_, yb0_).subs(t, t_))\n",
    "    res = np.array(res) \n",
    "    return res, time, time[1]-time[0]\n",
    "\n",
    "\n"
   ]
  },
  {
   "cell_type": "markdown",
   "metadata": {},
   "source": [
    "We now show that neither $\\theta, \\dot{\\theta}$ nor $\\ddot{\\theta}$ fulfill the Markov property. \n",
    "In all cases, the ansatz is to find a counterexample showing that $x \\in \\{\\theta, \\dot{\\theta}, \\ddot{\\theta} \\}$ violates the Markov property. \n",
    "\n",
    "<!-- don't copy over -->"
   ]
  },
  {
   "cell_type": "markdown",
   "metadata": {},
   "source": [
    "Intuitively, such a counterexample can be found as follows. The quantity $x \\in \n",
    "\\{\\theta, \\dot{\\theta}, \\ddot{\\theta} \\}$ is a representation that varies over \n",
    "time, and its dynamics are governed by some set if initial conditions $A$, \n",
    "which we make explicit by writing $x_A(t)$. \n",
    "We know that $x$ violates the Markov property if we cannot predict its value at \n",
    "the next time step from its value at the current time-step. This is equivalent \n",
    "to showing that there exists different set of \n",
    "initial conditions $A$ and $B$, $A \\neq B$, and time steps $t_A, t_B$, such \n",
    "that (i) the values of $x$ at time $t$ for the different initial conditions are \n",
    "identical, $x_A(t_A) = x_B(t_B)$ but (ii) their first derivatives differ\n",
    "$\\dot{x}_A(t_A) \\neq \\dot{x}_B(t_B)$. \n",
    "\n",
    "In the ball catching scenario, the dynamics of quantity $x \\in \\{\\theta, \n",
    "\\dot{\\theta}, \\ddot{\\theta} \\}$ are governed by the initial conditions $\\{\\nu, \n",
    "\\phi \\}$, corresponding to the initial ball velocity and angle, but also by the \n",
    "agent's motion $a(t)$ (see Eq.~\\ref{eq:tan_alpha_definition}).\n",
    "To simplify the proofs, we will assume (w.l.o.g.) a trivial agent trajectory, \n",
    "with fixed $D$ and a static agent, $a(t) = R + D = a_0$. It is sufficient to \n",
    "analyze this special case, since for a representation to be Markov means that \n",
    "it must be Markov for all possible agent trajectories. \n",
    "\n",
    "Note that we are only considering one-dimensional angular representations, not \n",
    "combinations of derivatives of $\\theta$. The reason is that the heuristic \n",
    "control strategies presented in Section~\\ref{subsec:vva_control} only rely on \n",
    "one-dimensional representations.\n",
    "\n"
   ]
  },
  {
   "cell_type": "markdown",
   "metadata": {},
   "source": [
    "## Non-Markov $\\theta$"
   ]
  },
  {
   "cell_type": "markdown",
   "metadata": {},
   "source": [
    "We begin with the simplest case, $\\theta$.\n",
    "\n",
    "We know that $\\theta$ is linear if the agent is waiting at the landing point ($D=0$), and that the trajectory of $\\theta$ has slope $\\dot{\\theta}$. Therefore, we consider this special case, and search for two different sets of initial parameters $A = \\{\\nu_A, \\phi_A \\}$,  $B = \\{\\nu_B, \\phi_B \\}$ and time steps $t_A$ and $t_B$ such that\n",
    "(i) $\\theta_{A}(t_A) = \\theta_{B}(t_B)$ and (ii) $\\dot{\\theta}_{A}(t_A) \\neq \\dot{\\theta}_{B}(t_B)$.\n",
    "\n",
    "We now compute the values of $\\theta$ and its derivatives for the special case $D=0$ that we consider."
   ]
  },
  {
   "cell_type": "code",
   "execution_count": 5,
   "metadata": {
    "collapsed": false
   },
   "outputs": [
    {
     "data": {
      "image/png": "[encoded data removed]",
      "text/latex": [
       "$$\\frac{0.5 g t}{\\nu \\cos{\\left (\\phi \\right )}}$$"
      ],
      "text/plain": [
       "   0.5⋅g⋅t   \n",
       "─────────────\n",
       "\\nu⋅cos(\\phi)"
      ]
     },
     "execution_count": 5,
     "metadata": {},
     "output_type": "execute_result"
    }
   ],
   "source": [
    "theta_D0 = theta.subs(D,0).simplify()\n",
    "theta_D0\n",
    "#t_eq  = sp.solve(tan_alpha_eq_D0,t)\n",
    "#t_eq"
   ]
  },
  {
   "cell_type": "markdown",
   "metadata": {},
   "source": [
    "$=\\theta$. Now compute the derivative for the simplified expression"
   ]
  },
  {
   "cell_type": "code",
   "execution_count": 6,
   "metadata": {
    "collapsed": false
   },
   "outputs": [
    {
     "data": {
      "image/png": "[encoded data removed]",
      "text/latex": [
       "$$\\frac{0.5 g}{\\nu \\cos{\\left (\\phi \\right )}}$$"
      ],
      "text/plain": [
       "    0.5⋅g    \n",
       "─────────────\n",
       "\\nu⋅cos(\\phi)"
      ]
     },
     "execution_count": 6,
     "metadata": {},
     "output_type": "execute_result"
    }
   ],
   "source": [
    "dtheta_D0 = sp.simplify(sp.diff(theta_D0, t))\n",
    "dtheta_D0"
   ]
  },
  {
   "cell_type": "markdown",
   "metadata": {},
   "source": [
    "$= \\dot{\\theta}_A$. "
   ]
  },
  {
   "cell_type": "code",
   "execution_count": 7,
   "metadata": {
    "collapsed": false
   },
   "outputs": [
    {
     "data": {
      "image/png": "[encoded data removed]",
      "text/latex": [
       "$$\\frac{0.5 g t_{B}}{\\nu_B \\cos{\\left (\\phi \\right )}}$$"
      ],
      "text/plain": [
       "   0.5⋅g⋅t_B   \n",
       "───────────────\n",
       "\\nu_B⋅cos(\\phi)"
      ]
     },
     "execution_count": 7,
     "metadata": {},
     "output_type": "execute_result"
    }
   ],
   "source": [
    "t_a, t_B, V_A, V_B = sp.symbols(r\"t_A t_B \\nu_A \\nu_B\")\n",
    "\n",
    "t2, V2, = sp.symbols(r\"t_B \\nu_B\")\n",
    "\n",
    "theta_D0_bar = theta_D0.subs(t, t2).subs(V, V2)#.subs(phi, phi2)\n",
    "theta_D0_bar"
   ]
  },
  {
   "cell_type": "markdown",
   "metadata": {},
   "source": [
    "$= {\\theta}_B$. \n"
   ]
  },
  {
   "cell_type": "markdown",
   "metadata": {
    "collapsed": false
   },
   "source": [
    "As known from Section~\\ref{subsubsec:chapman}, the slopes $\\dot{\\theta}_A$ and $\\dot{\\theta}_B$ are constant, solely depending on the initial parameters $A$ and $B$ (and gravity). Therefore, the only way to make them different, and thus fulfill equation (ii), is to choose different initial parameters. W.l.o.g., we assume $\\nu_A \\neq \\nu_B$ and $\\phi_A = \\phi_B$. We now need to find time steps $t_A$ and $t_B$ such that equation (i) is fulfilled, $\\theta_A({t_A}) = \\theta_B({t_B})$. By solving this equation for $t_A$, we obtain:"
   ]
  },
  {
   "cell_type": "code",
   "execution_count": 8,
   "metadata": {
    "collapsed": false
   },
   "outputs": [
    {
     "data": {
      "image/png": "[encoded data removed]",
      "text/latex": [
       "$$\\frac{\\nu_A t_{B}}{\\nu_B}$$"
      ],
      "text/plain": [
       "\\nu_A⋅t_B\n",
       "─────────\n",
       "  \\nu_B  "
      ]
     },
     "execution_count": 8,
     "metadata": {},
     "output_type": "execute_result"
    }
   ],
   "source": [
    "t_of_tbar = sp.solve(theta_D0_bar - theta_D0, t)[0]\n",
    "t_of_tbar.subs(V, V_A)"
   ]
  },
  {
   "cell_type": "markdown",
   "metadata": {},
   "source": [
    "$=t_A$. \n",
    "\n",
    "Therefore, (i) $\\theta_A(t_A) = \\theta_A(\\nu_A {\\nu_B}^{-1} t_B) = \\theta_B(t_B)$, but by construction (ii) $\\dot{\\theta}_A(t_A) \\neq \\dot{\\theta}_B(t_B)$. This shows **that $\\theta$ is not Markov**."
   ]
  },
  {
   "cell_type": "markdown",
   "metadata": {},
   "source": [
    "## Non-Markov $\\dot{\\theta}$"
   ]
  },
  {
   "cell_type": "markdown",
   "metadata": {},
   "source": [
    "Next, we show that $\\dot{\\theta}$ is not Markov either.\n",
    "As before, we search for two different sets of initial parameters $A = \\{\\nu_A, \\phi_A \\}$,  $B = \\{\\nu_B, \\phi_B \\}$ and time steps $t_A$ and $t_B$, but this time with the goal of showing that\n",
    "(i) $\\dot{\\theta}_{A}(t_A) = \\dot{\\theta}_{B}(t_B)$ and (ii) $\\ddot{\\theta}_{A}(t_A) \\neq \\ddot{\\theta}_{B}(t_B)$.\n",
    "\n",
    "This case is a bit more involved as we cannot assume that the agent waits at landing point, i.e. we cannot assume $a(t)=R$, $D=0$. The reason is that for this case $\\dot{\\theta}$ is constant and thus $\\ddot{\\theta}$ is zero, which makes the representation Markov in a trivial way. <!-- This makes the resulting equations highly non-linear and more difficult to solve. -->\n",
    "\n",
    "Our ansatz is to create an explicit dependency between $\\nu_A$ and $\\nu_B$ as well as $t_A$ and $t_B$, and then solve for the parameters such that they fulfill (i) and (ii). W.l.o.g., we will keep $\\phi_A = \\phi_B$, and define $\\nu_B = \\nu_A + \\epsilon$ by some $\\epsilon \\neq 0$, and define $t_B = t_A + \\delta$ for some $\\delta \\neq 0$ and solve for  $\\delta$."
   ]
  },
  {
   "cell_type": "code",
   "execution_count": 9,
   "metadata": {
    "collapsed": false
   },
   "outputs": [
    {
     "data": {
      "image/png": "[encoded data removed]",
      "text/latex": [
       "$$\\frac{g}{\\left(1.0 \\nu^{2} \\sin{\\left (2 \\phi \\right )} + g \\left(D - \\nu t \\cos{\\left (\\phi \\right )}\\right)\\right)^{2}} \\left(\\nu g t \\left(\\nu \\sin{\\left (\\phi \\right )} - 0.5 g t\\right) \\cos{\\left (\\phi \\right )} + \\left(\\nu \\sin{\\left (\\phi \\right )} - 1.0 g t\\right) \\left(1.0 \\nu^{2} \\sin{\\left (2 \\phi \\right )} + g \\left(D - \\nu t \\cos{\\left (\\phi \\right )}\\right)\\right)\\right)$$"
      ],
      "text/plain": [
       "  ⎛                                                                        ⎛  \n",
       "g⋅⎝\\nu⋅g⋅t⋅(\\nu⋅sin(\\phi) - 0.5⋅g⋅t)⋅cos(\\phi) + (\\nu⋅sin(\\phi) - 1.0⋅g⋅t)⋅⎝1.\n",
       "──────────────────────────────────────────────────────────────────────────────\n",
       "                                                                              \n",
       "                                     ⎛       2                                \n",
       "                                     ⎝1.0⋅\\nu ⋅sin(2⋅\\phi) + g⋅(D - \\nu⋅t⋅cos(\n",
       "\n",
       "     2                                      ⎞⎞\n",
       "0⋅\\nu ⋅sin(2⋅\\phi) + g⋅(D - \\nu⋅t⋅cos(\\phi))⎠⎠\n",
       "──────────────────────────────────────────────\n",
       "       2                                      \n",
       "      ⎞                                       \n",
       "\\phi))⎠                                       "
      ]
     },
     "execution_count": 9,
     "metadata": {},
     "output_type": "execute_result"
    }
   ],
   "source": [
    "dtheta = sp.simplify(sp.diff(theta, t))\n",
    "dtheta"
   ]
  },
  {
   "cell_type": "markdown",
   "metadata": {},
   "source": [
    "$= \\dot{\\theta}(t)$."
   ]
  },
  {
   "cell_type": "markdown",
   "metadata": {},
   "source": [
    "Additionally, we need to ensure that $D \\neq 0$ (and $D \\neq -R$, i.e. it must not coincide with the ball starting position because then $\\theta$ is linear, too). Since we are only interested in a counterexample, we can set $D$ to an arbitrary value and use $D = -\\frac{R}{2}$. This means the agent is standing exactly in the middle between the ball's starting and landing point."
   ]
  },
  {
   "cell_type": "code",
   "execution_count": 10,
   "metadata": {
    "collapsed": false
   },
   "outputs": [
    {
     "data": {
      "image/png": "[encoded data removed]",
      "text/latex": [
       "$$\\frac{g t \\left(\\nu_A \\sin{\\left (\\phi \\right )} - 0.5 g t\\right)}{\\nu_A \\left(1.0 \\nu_A \\sin{\\left (\\phi \\right )} - g t\\right) \\cos{\\left (\\phi \\right )}}$$"
      ],
      "text/plain": [
       "      g⋅t⋅(\\nu_A⋅sin(\\phi) - 0.5⋅g⋅t)      \n",
       "───────────────────────────────────────────\n",
       "\\nu_A⋅(1.0⋅\\nu_A⋅sin(\\phi) - g⋅t)⋅cos(\\phi)"
      ]
     },
     "execution_count": 10,
     "metadata": {},
     "output_type": "execute_result"
    }
   ],
   "source": [
    "D_ = -R/2\n",
    "T_DR2 = T.subs(D, D_).simplify()\n",
    "\n",
    "theta_DR2 = theta.subs(D, D_).simplify()\n",
    "theta_DR2.subs(V, V_A)"
   ]
  },
  {
   "cell_type": "markdown",
   "metadata": {},
   "source": [
    "$= {\\theta}_A(t)$."
   ]
  },
  {
   "cell_type": "code",
   "execution_count": 11,
   "metadata": {
    "collapsed": false
   },
   "outputs": [
    {
     "data": {
      "image/png": "[encoded data removed]",
      "text/latex": [
       "$$\\frac{1.0 g \\left(g t \\left(\\nu_A \\sin{\\left (\\phi \\right )} - 0.5 g t\\right) + 1.0 \\left(- \\nu_A \\sin{\\left (\\phi \\right )} + g t\\right)^{2}\\right)}{\\nu_A \\left(- \\nu_A \\sin{\\left (\\phi \\right )} + g t\\right)^{2} \\cos{\\left (\\phi \\right )}}$$"
      ],
      "text/plain": [
       "      ⎛                                                              2⎞\n",
       "1.0⋅g⋅⎝g⋅t⋅(\\nu_A⋅sin(\\phi) - 0.5⋅g⋅t) + 1.0⋅(-\\nu_A⋅sin(\\phi) + g⋅t) ⎠\n",
       "───────────────────────────────────────────────────────────────────────\n",
       "                                             2                         \n",
       "               \\nu_A⋅(-\\nu_A⋅sin(\\phi) + g⋅t) ⋅cos(\\phi)               "
      ]
     },
     "execution_count": 11,
     "metadata": {},
     "output_type": "execute_result"
    }
   ],
   "source": [
    "dtheta_DR2 = sp.diff(theta_DR2,t).simplify()\n",
    "dtheta_DR2.subs(V, V_A)"
   ]
  },
  {
   "cell_type": "markdown",
   "metadata": {},
   "source": [
    "$= \\dot{\\theta}_A(t)$."
   ]
  },
  {
   "cell_type": "code",
   "execution_count": 12,
   "metadata": {
    "collapsed": false
   },
   "outputs": [
    {
     "data": {
      "image/png": "[encoded data removed]",
      "text/latex": [
       "$$\\frac{1.0 \\nu_A g^{2} \\sin^{2}{\\left (\\phi \\right )}}{\\left(\\nu_A \\sin{\\left (\\phi \\right )} - g t\\right)^{3} \\cos{\\left (\\phi \\right )}}$$"
      ],
      "text/plain": [
       "                2    2            \n",
       "     1.0⋅\\nu_A⋅g ⋅sin (\\phi)      \n",
       "──────────────────────────────────\n",
       "                       3          \n",
       "(\\nu_A⋅sin(\\phi) - g⋅t) ⋅cos(\\phi)"
      ]
     },
     "execution_count": 12,
     "metadata": {},
     "output_type": "execute_result"
    }
   ],
   "source": [
    "ddtheta_DR2 = sp.diff(dtheta_DR2,t).simplify()\n",
    "ddtheta_DR2.subs(V, V_A)"
   ]
  },
  {
   "cell_type": "markdown",
   "metadata": {},
   "source": [
    "$= \\ddot{\\theta}_A(t)$."
   ]
  },
  {
   "cell_type": "code",
   "execution_count": 13,
   "metadata": {
    "collapsed": false
   },
   "outputs": [],
   "source": [
    "#t2 = sp.symbols(r\"\\bar{t}\")\n",
    "eps = sp.symbols(r\"\\varepsilon\")\n",
    "delta = sp.symbols(r\"\\delta\")\n",
    "t2 = t+delta\n",
    "V2 = V*eps"
   ]
  },
  {
   "cell_type": "code",
   "execution_count": 14,
   "metadata": {
    "collapsed": false
   },
   "outputs": [
    {
     "data": {
      "image/png": "[encoded data removed]",
      "text/latex": [
       "$$\\frac{g \\left(\\delta + t\\right) \\left(\\nu_B \\varepsilon \\sin{\\left (\\phi \\right )} - 0.5 g \\left(\\delta + t\\right)\\right)}{\\nu_B \\varepsilon \\left(1.0 \\nu_B \\varepsilon \\sin{\\left (\\phi \\right )} - g \\left(\\delta + t\\right)\\right) \\cos{\\left (\\phi \\right )}}$$"
      ],
      "text/plain": [
       "      g⋅(\\delta + t)⋅(\\nu_B⋅\\varepsilon⋅sin(\\phi) - 0.5⋅g⋅(\\delta + t))       \n",
       "──────────────────────────────────────────────────────────────────────────────\n",
       "\\nu_B⋅\\varepsilon⋅(1.0⋅\\nu_B⋅\\varepsilon⋅sin(\\phi) - g⋅(\\delta + t))⋅cos(\\phi)"
      ]
     },
     "execution_count": 14,
     "metadata": {},
     "output_type": "execute_result"
    }
   ],
   "source": [
    "theta_DR2_bar = theta_DR2.subs(V, V2).subs(t, t2).simplify()\n",
    "theta_DR2_bar.subs(V, V_B)"
   ]
  },
  {
   "cell_type": "markdown",
   "metadata": {},
   "source": [
    "$= {\\theta}_B(t)$."
   ]
  },
  {
   "cell_type": "code",
   "execution_count": 15,
   "metadata": {
    "collapsed": false
   },
   "outputs": [
    {
     "data": {
      "image/png": "[encoded data removed]",
      "text/latex": [
       "$$\\frac{g \\left(g \\left(\\delta + t\\right) \\left(\\nu_B \\varepsilon \\sin{\\left (\\phi \\right )} - 0.5 g \\left(\\delta + t\\right)\\right) + 1.0 \\left(\\delta g - \\nu_B \\varepsilon \\sin{\\left (\\phi \\right )} + g t\\right)^{2}\\right)}{\\nu_B \\varepsilon \\left(1.0 \\nu_B \\varepsilon \\sin{\\left (\\phi \\right )} - g \\left(\\delta + t\\right)\\right)^{2} \\cos{\\left (\\phi \\right )}}$$"
      ],
      "text/plain": [
       "  ⎛                                                                           \n",
       "g⋅⎝g⋅(\\delta + t)⋅(\\nu_B⋅\\varepsilon⋅sin(\\phi) - 0.5⋅g⋅(\\delta + t)) + 1.0⋅(\\d\n",
       "──────────────────────────────────────────────────────────────────────────────\n",
       "                                                                              \n",
       "                      \\nu_B⋅\\varepsilon⋅(1.0⋅\\nu_B⋅\\varepsilon⋅sin(\\phi) - g⋅(\n",
       "\n",
       "                                           2⎞\n",
       "elta⋅g - \\nu_B⋅\\varepsilon⋅sin(\\phi) + g⋅t) ⎠\n",
       "─────────────────────────────────────────────\n",
       "            2                                \n",
       "\\delta + t)) ⋅cos(\\phi)                      "
      ]
     },
     "execution_count": 15,
     "metadata": {},
     "output_type": "execute_result"
    }
   ],
   "source": [
    "dtheta_DR2_bar = sp.diff(theta_DR2_bar, t).simplify()\n",
    "dtheta_DR2_bar.subs(V, V_B)"
   ]
  },
  {
   "cell_type": "markdown",
   "metadata": {},
   "source": [
    "$= \\dot{\\theta}_B(t)$."
   ]
  },
  {
   "cell_type": "code",
   "execution_count": 16,
   "metadata": {
    "collapsed": false
   },
   "outputs": [
    {
     "data": {
      "image/png": "[encoded data removed]",
      "text/latex": [
       "$$\\frac{\\nu_B \\varepsilon g^{2} \\sin^{2}{\\left (\\phi \\right )}}{\\left(1.0 \\nu_B \\varepsilon \\sin{\\left (\\phi \\right )} - g \\left(\\delta + t\\right)\\right)^{3} \\cos{\\left (\\phi \\right )}}$$"
      ],
      "text/plain": [
       "                                  2    2                     \n",
       "               \\nu_B⋅\\varepsilon⋅g ⋅sin (\\phi)               \n",
       "─────────────────────────────────────────────────────────────\n",
       "                                                  3          \n",
       "(1.0⋅\\nu_B⋅\\varepsilon⋅sin(\\phi) - g⋅(\\delta + t)) ⋅cos(\\phi)"
      ]
     },
     "execution_count": 16,
     "metadata": {},
     "output_type": "execute_result"
    }
   ],
   "source": [
    "ddtheta_DR2_bar = sp.diff(dtheta_DR2_bar, t).simplify()\n",
    "ddtheta_DR2_bar.subs(V, V_B)"
   ]
  },
  {
   "cell_type": "markdown",
   "metadata": {},
   "source": [
    "$= \\ddot{\\theta}_B(t)$."
   ]
  },
  {
   "cell_type": "markdown",
   "metadata": {},
   "source": [
    "By solving $\\ddot{\\theta}_A(t_A) = \\ddot{\\theta}_B(t_B)$ for $\\delta$, we obtain two conjugate solutions, from which we choose the positive one:"
   ]
  },
  {
   "cell_type": "code",
   "execution_count": 17,
   "metadata": {
    "collapsed": false
   },
   "outputs": [],
   "source": [
    "dtheta_bar_delta = sp.solve(dtheta_DR2_bar-dtheta_DR2,delta)\n"
   ]
  },
  {
   "cell_type": "code",
   "execution_count": 18,
   "metadata": {
    "collapsed": false
   },
   "outputs": [
    {
     "data": {
      "image/png": "[encoded data removed]",
      "text/latex": [
       "$$\\frac{\\nu \\varepsilon \\left(\\nu \\sin{\\left (\\phi \\right )} - g t\\right) \\sin{\\left (\\phi \\right )} + \\left(\\nu \\varepsilon \\sin{\\left (\\phi \\right )} - g t\\right) \\sqrt{2.0 \\nu^{2} \\varepsilon \\sin^{2}{\\left (\\phi \\right )} - \\nu^{2} \\sin^{2}{\\left (\\phi \\right )} - 2.0 \\nu \\varepsilon g t \\sin{\\left (\\phi \\right )} + 2.0 \\nu g t \\sin{\\left (\\phi \\right )} + \\varepsilon g^{2} t^{2} - g^{2} t^{2}}}{g \\sqrt{2.0 \\nu^{2} \\varepsilon \\sin^{2}{\\left (\\phi \\right )} - \\nu^{2} \\sin^{2}{\\left (\\phi \\right )} - 2.0 \\nu \\varepsilon g t \\sin{\\left (\\phi \\right )} + 2.0 \\nu g t \\sin{\\left (\\phi \\right )} + \\varepsilon g^{2} t^{2} - g^{2} t^{2}}}$$"
      ],
      "text/plain": [
       "                                                                              \n",
       "                                                                              \n",
       "\\nu⋅\\varepsilon⋅(\\nu⋅sin(\\phi) - g⋅t)⋅sin(\\phi) + (\\nu⋅\\varepsilon⋅sin(\\phi) -\n",
       "──────────────────────────────────────────────────────────────────────────────\n",
       "                                              ________________________________\n",
       "                                             ╱        2                2      \n",
       "                                         g⋅╲╱  2.0⋅\\nu ⋅\\varepsilon⋅sin (\\phi)\n",
       "\n",
       "         _____________________________________________________________________\n",
       "        ╱        2                2            2    2                         \n",
       " g⋅t)⋅╲╱  2.0⋅\\nu ⋅\\varepsilon⋅sin (\\phi) - \\nu ⋅sin (\\phi) - 2.0⋅\\nu⋅\\varepsi\n",
       "──────────────────────────────────────────────────────────────────────────────\n",
       "______________________________________________________________________________\n",
       "      2    2                                                                  \n",
       " - \\nu ⋅sin (\\phi) - 2.0⋅\\nu⋅\\varepsilon⋅g⋅t⋅sin(\\phi) + 2.0⋅\\nu⋅g⋅t⋅sin(\\phi)\n",
       "\n",
       "______________________________________________________________________\n",
       "                                                         2  2    2  2 \n",
       "lon⋅g⋅t⋅sin(\\phi) + 2.0⋅\\nu⋅g⋅t⋅sin(\\phi) + \\varepsilon⋅g ⋅t  - g ⋅t  \n",
       "──────────────────────────────────────────────────────────────────────\n",
       "_____________________________                                         \n",
       "                2  2    2  2                                          \n",
       " + \\varepsilon⋅g ⋅t  - g ⋅t                                           "
      ]
     },
     "execution_count": 18,
     "metadata": {},
     "output_type": "execute_result"
    }
   ],
   "source": [
    "dtheta_bar_delta[1]"
   ]
  },
  {
   "cell_type": "markdown",
   "metadata": {},
   "source": [
    "$= \\delta$"
   ]
  },
  {
   "cell_type": "markdown",
   "metadata": {},
   "source": [
    "A sanity check using concrete values for the initial conditions ($\\nu = 30 \\frac{m}{s}, \\phi = \\frac{\\pi}{4}$), $t_A = T_A$ and $\\varepsilon = 1.1$ shows that:"
   ]
  },
  {
   "cell_type": "code",
   "execution_count": 19,
   "metadata": {
    "collapsed": false
   },
   "outputs": [
    {
     "name": "stdout",
     "output_type": "stream",
     "text": [
      " t_A = 4.324812\n",
      " \\delta = -4.117563 => t_B = 0.207249\n",
      " \\dot{theta}_A(t_A) = 0.462448\n",
      " \\dot{theta}_B(t_B) = 0.462448\n"
     ]
    }
   ],
   "source": [
    "V_cc = 30.\n",
    "phi_cc = np.pi/4\n",
    "t_cc = T_DR2\n",
    "eps_cc = 1.1\n",
    "\n",
    "# Example:\n",
    "delta_bar_ = concrete_case(dtheta_bar_delta[1].subs(eps, eps_cc).subs(t, t_cc), V_=V_cc, phi_=phi_cc)\n",
    "t_A_ = concrete_case(T_DR2, V_=V_cc, phi_=phi_cc )\n",
    "print (r\" t_A = %f\" % t_A_)\n",
    "print (r\" \\delta = %f => t_B = %f\" % (delta_bar_, t_A_ + delta_bar_ ))\n",
    "\n",
    "print (r\" \\dot{theta}_A(t_A) = %f\" % concrete_case(dtheta_DR2.subs(t, t_cc), V_=V_cc, phi_=phi_cc ))\n",
    "print (r\" \\dot{theta}_B(t_B) = %f\" % concrete_case(dtheta_DR2_bar.subs(delta, delta_bar_).subs(t, t_cc)\n",
    "                                        .subs(eps, eps_cc)\n",
    "                                        .subs(delta, delta_bar_), \n",
    "              V_=V_cc, phi_=phi_cc ))"
   ]
  },
  {
   "cell_type": "markdown",
   "metadata": {},
   "source": [
    "Our sanity check confirms that $\\dot{\\theta}^A(t^A) = \\dot{\\theta}^B(t^A + \\delta) = \\dot{\\theta}^B(t^B)$.\n",
    "\n",
    "We now compare the second derivatives."
   ]
  },
  {
   "cell_type": "code",
   "execution_count": 20,
   "metadata": {
    "collapsed": false
   },
   "outputs": [
    {
     "name": "stdout",
     "output_type": "stream",
     "text": [
      " \\ddot{\\theta}_A = -0.213858\n",
      " \\ddot{\\theta}_B = 0.232334\n"
     ]
    }
   ],
   "source": [
    "print (r\" \\ddot{\\theta}_A = %f\" % concrete_case(ddtheta_DR2.subs(t, t_cc), V_=V_cc, phi_=phi_cc ))\n",
    "print (r\" \\ddot{\\theta}_B = %f\" % concrete_case(ddtheta_DR2_bar.subs(delta, delta_bar_).subs(t, t_cc)\n",
    "                                        .subs(eps, eps_cc)\n",
    "                                        .subs(delta, delta_bar_), \n",
    "              V_=V_cc, phi_=phi_cc ))"
   ]
  },
  {
   "cell_type": "markdown",
   "metadata": {},
   "source": [
    "The values differ, and we have therefore successfully found a counterexample, showing that **$\\dot{\\theta}$ is not Markov**."
   ]
  },
  {
   "cell_type": "markdown",
   "metadata": {},
   "source": [
    "## Non-Markov $\\ddot{\\theta}$"
   ]
  },
  {
   "cell_type": "markdown",
   "metadata": {},
   "source": [
    "Similar to the previous proof, we are now going to show that $\\ddot{\\theta}$ is not Markov, either.\n",
    "\n",
    "We start by computing the third derivatives."
   ]
  },
  {
   "cell_type": "code",
   "execution_count": 21,
   "metadata": {
    "collapsed": false
   },
   "outputs": [
    {
     "data": {
      "image/png": "[encoded data removed]",
      "text/latex": [
       "$$\\frac{3.0 \\nu_A g^{3} \\sin^{2}{\\left (\\phi \\right )}}{\\left(\\nu_A \\sin{\\left (\\phi \\right )} - g t\\right)^{4} \\cos{\\left (\\phi \\right )}}$$"
      ],
      "text/plain": [
       "                3    2            \n",
       "     3.0⋅\\nu_A⋅g ⋅sin (\\phi)      \n",
       "──────────────────────────────────\n",
       "                       4          \n",
       "(\\nu_A⋅sin(\\phi) - g⋅t) ⋅cos(\\phi)"
      ]
     },
     "execution_count": 21,
     "metadata": {},
     "output_type": "execute_result"
    }
   ],
   "source": [
    "dddtheta_DR2 = sp.diff(ddtheta_DR2,t).simplify()\n",
    "dddtheta_DR2.subs(V, V_A)"
   ]
  },
  {
   "cell_type": "markdown",
   "metadata": {},
   "source": [
    "$=\\dddot{\\theta}_A(t)$"
   ]
  },
  {
   "cell_type": "code",
   "execution_count": 22,
   "metadata": {
    "collapsed": false
   },
   "outputs": [
    {
     "data": {
      "image/png": "[encoded data removed]",
      "text/latex": [
       "$$\\frac{3 \\nu_B \\varepsilon g^{3} \\sin^{2}{\\left (\\phi \\right )}}{\\left(1.0 \\nu_B \\varepsilon \\sin{\\left (\\phi \\right )} - g \\left(\\delta + t\\right)\\right)^{4} \\cos{\\left (\\phi \\right )}}$$"
      ],
      "text/plain": [
       "                                   3    2                    \n",
       "              3⋅\\nu_B⋅\\varepsilon⋅g ⋅sin (\\phi)              \n",
       "─────────────────────────────────────────────────────────────\n",
       "                                                  4          \n",
       "(1.0⋅\\nu_B⋅\\varepsilon⋅sin(\\phi) - g⋅(\\delta + t)) ⋅cos(\\phi)"
      ]
     },
     "execution_count": 22,
     "metadata": {},
     "output_type": "execute_result"
    }
   ],
   "source": [
    "dddtheta_DR2_bar = sp.diff(ddtheta_DR2_bar, t).simplify()\n",
    "dddtheta_DR2_bar.subs(V, V_B)"
   ]
  },
  {
   "cell_type": "markdown",
   "metadata": {},
   "source": [
    "$=\\dddot{\\theta}_B(t)$"
   ]
  },
  {
   "cell_type": "markdown",
   "metadata": {},
   "source": [
    "Now we solve for $\\delta$, but in the second derivatives."
   ]
  },
  {
   "cell_type": "code",
   "execution_count": 23,
   "metadata": {
    "collapsed": false
   },
   "outputs": [],
   "source": [
    "ddtheta_bar_delta = sp.solve(ddtheta_DR2_bar-ddtheta_DR2,delta)\n",
    "#ddtheta_bar_delta"
   ]
  },
  {
   "cell_type": "code",
   "execution_count": 24,
   "metadata": {
    "collapsed": false
   },
   "outputs": [
    {
     "data": {
      "image/png": "[encoded data removed]",
      "text/latex": [
       "$$3$$"
      ],
      "text/plain": [
       "3"
      ]
     },
     "execution_count": 24,
     "metadata": {},
     "output_type": "execute_result"
    }
   ],
   "source": [
    "len(ddtheta_bar_delta)"
   ]
  },
  {
   "cell_type": "code",
   "execution_count": 25,
   "metadata": {
    "collapsed": false
   },
   "outputs": [
    {
     "name": "stdout",
     "output_type": "stream",
     "text": [
      " t_A = 0.144160\n",
      " \\delta = 0.005347 => t_B = 0.149507 \n",
      " \\ddot{\\theta}_A = 375.922266\n",
      " \\ddot{\\theta}_B = 375.922266\n"
     ]
    }
   ],
   "source": [
    "V_cc = 1.\n",
    "phi_cc = np.pi/4\n",
    "t_cc = 0.1*T_DR2\n",
    "eps_cc = 1.1\n",
    "\n",
    "# Example:\n",
    "t_A_ = concrete_case(T_DR2, V_=V_cc, phi_=phi_cc )\n",
    "ddelta_bar_ = concrete_case(ddtheta_bar_delta[0].subs(eps, eps_cc).subs(t, t_cc), V_=V_cc, phi_=phi_cc)\n",
    "print (r\" t_A = %f\" % t_A_)\n",
    "print (r\" \\delta = %f => t_B = %f \" % (ddelta_bar_, t_A_ + ddelta_bar_))\n",
    "print (r\" \\ddot{\\theta}_A = %f\" % concrete_case(ddtheta_DR2.subs(t, t_cc), V_=V_cc, phi_=phi_cc ))\n",
    "print (r\" \\ddot{\\theta}_B = %f\" % concrete_case(ddtheta_DR2_bar.subs(delta, ddelta_bar_).subs(t, t_cc)\n",
    "                                        .subs(eps, eps_cc)\n",
    "                                        .subs(delta, delta_bar_), \n",
    "              V_=V_cc, phi_=phi_cc ))"
   ]
  },
  {
   "cell_type": "markdown",
   "metadata": {},
   "source": [
    "(Note that we chose a $t_A = 0.2 T$, otherwise the values quickly go towards inf.)\n",
    "\n",
    "We check the third derivatives."
   ]
  },
  {
   "cell_type": "code",
   "execution_count": 26,
   "metadata": {
    "collapsed": false
   },
   "outputs": [
    {
     "name": "stdout",
     "output_type": "stream",
     "text": [
      " \\dddot{\\theta}_A = 19557.499256\n",
      " \\dddot{\\theta}_B = 0.000777\n"
     ]
    }
   ],
   "source": [
    "print (r\" \\dddot{\\theta}_A = %f\" % concrete_case(dddtheta_DR2.subs(t, t_cc), V_=V_cc, phi_=phi_cc ))\n",
    "print (r\" \\dddot{\\theta}_B = %f\" % concrete_case(dddtheta_DR2_bar.subs(delta, delta_bar_).subs(t, t_cc)\n",
    "                                        .subs(eps, eps_cc)\n",
    "                                        .subs(delta, delta_bar_), \n",
    "              V_=V_cc, phi_=phi_cc ))"
   ]
  },
  {
   "cell_type": "markdown",
   "metadata": {},
   "source": [
    "The values differ, and we have therefore successfully found a counterexample, showing that **$\\ddot{\\theta}$ is not Markov**."
   ]
  },
  {
   "cell_type": "code",
   "execution_count": null,
   "metadata": {
    "collapsed": true
   },
   "outputs": [],
   "source": []
  }
 ],
 "metadata": {
  "anaconda-cloud": {},
  "kernelspec": {
   "display_name": "Python 2",
   "language": "python",
   "name": "python2"
  },
  "language_info": {
   "codemirror_mode": {
    "name": "ipython",
    "version": 2
   },
   "file_extension": ".py",
   "mimetype": "text/x-python",
   "name": "python",
   "nbconvert_exporter": "python",
   "pygments_lexer": "ipython2",
   "version": "2.7.11"
  }
 },
 "nbformat": 4,
 "nbformat_minor": 0
}
