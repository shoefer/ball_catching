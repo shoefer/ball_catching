{
 "cells": [
  {
   "cell_type": "markdown",
   "metadata": {},
   "source": [
    "# Catching Heuristics Are Robust to Systematic Disturbances  and Can Be Found by Reinforcement Learning\n",
    "\n",
    "## Supplementary Material: Proofs for Chapman's Strategy (Section 4)"
   ]
  },
  {
   "cell_type": "markdown",
   "metadata": {},
   "source": [
    "This material accompanies my doctoral thesis *On Decomposability in Robot Reinforcement Learning* and the paper *Catching Heuristics Are Robust to Systematic Disturbances  and Can Be Found by Reinforcement Learning*.\n",
    "\n",
    "&copy; 2017 Sebastian Höfer\n",
    "\n"
   ]
  },
  {
   "cell_type": "markdown",
   "metadata": {},
   "source": [
    "In this notebook, we verify the proofs regarding Chapman's strategy in Section 4 of the paper (Thesis Chapter 4)."
   ]
  },
  {
   "cell_type": "code",
   "execution_count": 1,
   "metadata": {
    "collapsed": false
   },
   "outputs": [],
   "source": [
    "from IPython.display import Image, display\n",
    "\n",
    "import sympy as sp\n",
    "import numpy as np\n",
    "\n",
    "sp.init_printing()\n",
    "\n",
    "import os\n",
    "import sys\n",
    "# load scripts\n",
    "#sys.path.append(os.path.join(os.getcwd(), \"../../src\"))\n",
    "#import multi_experiment_plot\n",
    "#from utils import pdfcrop\n",
    "\n",
    "def concrete_case(formula, V_, theta_, yb0_=0):\n",
    "\tglobal GRAVITY\n",
    "\treturn formula.subs(g,GRAVITY).subs(V,V_).subs(theta,theta_).subs(yb0,yb0_)\n",
    "\n",
    "def concrete_trajectory(formula, V_, theta_, T_, yb0_=0, N=100):\n",
    "\ttime = np.linspace(0, float(T_), N)\n",
    "\treturn np.array(map(lambda t_: concrete_case(formula, V_, theta_, yb0_).subs(t, t_), time)), time, time[1]-time[0]"
   ]
  },
  {
   "cell_type": "code",
   "execution_count": 2,
   "metadata": {
    "collapsed": false
   },
   "outputs": [
    {
     "name": "stdout",
     "output_type": "stream",
     "text": [
      "Populating the interactive namespace from numpy and matplotlib\n"
     ]
    },
    {
     "name": "stderr",
     "output_type": "stream",
     "text": [
      "/Users/Hoefer/anaconda/lib/python2.7/site-packages/matplotlib/__init__.py:1350: UserWarning:  This call to matplotlib.use() has no effect\n",
      "because the backend has already been chosen;\n",
      "matplotlib.use() must be called *before* pylab, matplotlib.pyplot,\n",
      "or matplotlib.backends is imported for the first time.\n",
      "\n",
      "  warnings.warn(_use_error_msg)\n"
     ]
    }
   ],
   "source": [
    "%pylab inline\n",
    "\n",
    "import matplotlib\n",
    "#matplotlib.rcParams['ps.useafm'] = True\n",
    "#matplotlib.rcParams['pdf.use14corefonts'] = True\n",
    "matplotlib.rcParams['text.usetex'] = True\n",
    "matplotlib.rcParams['text.latex.preamble'] = r\"\\usepackage{charter}, \\usepackage{tgheros}, \\renewcommand*\\familydefault{\\sfdefault}\"\n",
    "matplotlib.rcParams['figure.autolayout'] = True\n",
    "matplotlib.rcParams['font.size'] = 24\n",
    "\n",
    "#from matplotlib import rc\n",
    "#rc('font',**{'family':'serif','serif':['Computer Modern Roman'], 'size': 30})\n",
    "\n",
    "matplotlib.use('pdf')"
   ]
  },
  {
   "cell_type": "code",
   "execution_count": 3,
   "metadata": {
    "collapsed": true
   },
   "outputs": [],
   "source": [
    "def plot_surface(fig, ax, title, X, Y, Z, labels, linewidth=0.2, vlim=None, zlim=[None,None], contour=False, elev=20, azi=45):\n",
    "  if vlim is None:\n",
    "    vlim = zlim\n",
    "  ax.set_title(title)\n",
    "  #ax = fig.gca(projection='3d')\n",
    "\n",
    "  xlabelpad, ylabelpad, zlabelpad = [35,35,10]\n",
    "\n",
    "  if zlim[1] is not None:\n",
    "    Z[np.where(Z > zlim[1])] = zlim[1]\n",
    "  \n",
    "  surf = ax.plot_surface(X, Y, Z, rstride=1, cstride=1, cmap=cm.coolwarm, vmin=vlim[0], vmax=vlim[1], \n",
    "        linewidth=linewidth, antialiased=False, )  \n",
    "  ax.zaxis.set_major_locator(LinearLocator(10))\n",
    "  ax.zaxis.set_major_formatter(FormatStrFormatter('%.01f'))\n",
    "  ax.set_xlabel(labels[0], labelpad=xlabelpad)\n",
    "  ax.set_ylabel(labels[1], labelpad=ylabelpad)\n",
    "  ax.set_zlabel(labels[2], labelpad=zlabelpad)\n",
    "\n",
    "\n",
    "  if zlim[0] == 0 and zlim[1] == 5:\n",
    "    # hacky: for agent_ball_distance\n",
    "    ax.set_zticks([0,1,2,3,4,5])\n",
    "    ax.set_zticklabels(map (lambda x: \"$%d$\" % x, [0,1,2,3,4,5]))\n",
    "\n",
    "  # reformat ticklabels\n",
    "  for ticks_and_labels, setter, in zip([ zip(ax.get_xticks(), ax.get_xticklabels()),\n",
    "                                        zip(ax.get_yticks(), ax.get_yticklabels()),\n",
    "                                        zip(ax.get_zticks(), ax.get_zticklabels())],\n",
    "                                        (ax.set_xticklabels, ax.set_yticklabels, ax.set_zticklabels)):\n",
    "    ticklbls = []\n",
    "    fnt_size = \"huge\"\n",
    "\n",
    "    tkz = zip(*ticks_and_labels)[0]\n",
    "    tick_range =  np.max(tkz) - np.min(tkz)\n",
    "\n",
    "    for tick, lbl in ticks_and_labels:\n",
    "      #txt = lbl.get_text()\n",
    "      #if txt == \"\":\n",
    "      if tick_range <= 1.5:\n",
    "        tl = \"%.1f\" % tick\n",
    "      else:\n",
    "        tl = \"%d\" % tick\n",
    "      txt = r\"\\%s{$%s$}\" % (fnt_size, tl)\n",
    "      #else:\n",
    "      #  txt = r\"\\%s{%s}\" % (fnt_size, tick)\n",
    "      lbl.set_text(txt)\n",
    "      ticklbls.append(lbl)\n",
    "    setter(ticklbls)\n",
    "\n",
    "  # move y ticks a bit to the left, so the -15 does not collide\n",
    "  [t.set_ha('right') for t in ax.get_yticklabels()]\n",
    "\n",
    "  vmin = 0.\n",
    "  vmax = 1.\n",
    "  \n",
    "  ax.view_init(elev, azi)\n",
    "  \n",
    "  if contour:\n",
    "    if np.min(Z) != np.max(Z):\n",
    "      cset = ax.contour(X, Y, Z, zdir='z', offset=np.min(Z), cmap=cm.coolwarm)\n",
    "    if np.min(X) != np.max(X):\n",
    "      #cset = ax.contour(X, Y, Z, zdir='x', offset=np.min(X), cmap=cm.coolwarm)\n",
    "      cset = ax.contour(X, Y, Z, zdir='x', offset=np.max(X), cmap=cm.coolwarm) # project to opposite side\n",
    "    if np.min(Y) != np.max(Y):\n",
    "      #cset = ax.contour(X, Y, Z, zdir='y', offset=np.min(Y), cmap=cm.coolwarm)\n",
    "      cset = ax.contour(X, Y, Z, zdir='y', offset=np.max(Y), cmap=cm.coolwarm) # project to opposite side\n",
    "  \n",
    "  if zlim != [None,None]:\n",
    "    ax.set_zlim3d(zlim[0], zlim[1])\n",
    "  fig.colorbar(surf, shrink=0.75, aspect=20)\n",
    "\n",
    "  return ax\n",
    "\n",
    "import subprocess\n",
    "\n",
    "def pdfcrop(path):\n",
    "  #call = [\"perl\", \"/usr/bin/pdfcrop\", path, path  ]\n",
    "  call = [\"pdfcrop\", path, path  ]\n",
    "  print \" \".join(call)\n",
    "  pipe = subprocess.Popen(call)\n",
    "  return pipe\n"
   ]
  },
  {
   "cell_type": "code",
   "execution_count": 4,
   "metadata": {
    "collapsed": false
   },
   "outputs": [],
   "source": [
    "# HElPER FUNCTIONS\n",
    "# sympy has problems of simplifying (V^2 sin(theta)^2)^{1/2} to V sin(theta)\n",
    "def sympy_sqrt_fix(formula):\n",
    "#  return sp.simplify(formula.subs((V**2*sp.sin(theta)**2)**(0.5), V*sp.sin(theta)))\n",
    "  return sp.simplify(formula.subs(sp.sqrt( (V**2) * (sp.sin(theta))**2), V*sp.sin(theta)))\n",
    "def zero_yb0(formula, val=0):\n",
    "  return sympy_sqrt_fix(formula.subs(yb0,val))\n",
    "\n",
    "\n",
    "GRAVITY=9.81\n",
    "\n",
    "# Variable\n",
    "t, yb0, theta, psi, V, g, rv = sp.symbols(\"t, b_{y0}, \\\\varphi, \\\\psi, \\\\nu, g, \\\\vvaref\")\n",
    "#yb0 = 0\n",
    "yb = V*sp.sin(theta)*t - 0.5*g*t*t + yb0\n",
    "xb = V*sp.cos(theta)*t\n",
    "\n",
    "T = sp.solve(yb, t)[1]\n",
    "R = xb.subs(t, T)"
   ]
  },
  {
   "cell_type": "markdown",
   "metadata": {},
   "source": [
    "$\\newcommand{\\vva}{\\theta}\n",
    "\\newcommand{\\dvva}{\\dot{\\theta}}\n",
    "\\newcommand{\\ddvva}{\\ddot{\\theta}}\n",
    "\\newcommand{\\dddvva}{\\dddot{\\theta}}\n",
    "\\newcommand{\\vvaref}{\\dot{\\theta}_\\mathrm{ref}}\n",
    "\\newcommand{\\vvarefzero}{\\dot{\\theta}_{\\mathrm{ref},0}}\n",
    "\\newcommand{\\vvarefcon}{{\\vvaref^*}}\n",
    "\\newcommand{\\vvarefincon}{{\\vvaref^{\\sim}}}\n",
    "\\newcommand{\\xyzb}{\\mathbf{b}}\n",
    "\\newcommand{\\dxyzb}{\\dot{\\mathbf{b}}}\n",
    "\\newcommand{\\ddxyzb}{\\ddot{\\mathbf{b}}}\n",
    "\\newcommand{\\xb}{{b_x}}\n",
    "\\newcommand{\\dxb}{{\\dot{b}_x}}\n",
    "\\newcommand{\\ddxb}{{\\dot{b}_x}}\n",
    "\\newcommand{\\yb}{{b_y}}\n",
    "\\newcommand{\\dyb}{{\\dot{b}_y}}\n",
    "\\newcommand{\\ddyb}{{\\ddot{b}_y}}\n",
    "\\newcommand{\\zb}{{b_z}}\n",
    "\\newcommand{\\dzb}{{\\dot{b}_z}}\n",
    "\\newcommand{\\ddzb}{{\\ddot{b}_z}}\n",
    "\\newcommand{\\xbzero}{{b_{x,0}}}\n",
    "\\newcommand{\\ybzero}{{b_{y,0}}}\n",
    "\\newcommand{\\dxbzero}{{\\dot{b}_{x,0}}}\n",
    "\\newcommand{\\dybzero}{{\\dot{b}_{y,0}}}\n",
    "\\newcommand{\\xyza}{\\mathbf{a}}\n",
    "\\newcommand{\\dxyza}{\\dot{\\mathbf{a}}}\n",
    "\\newcommand{\\ddxyza}{\\ddot{\\mathbf{a}}}\n",
    "\\newcommand{\\xa}{{a_x}}\n",
    "\\newcommand{\\dxa}{{\\ddot{a}_x}}\n",
    "\\newcommand{\\ddxa}{{\\ddot{a}_x}}\n",
    "\\newcommand{\\za}{{a_z}}\n",
    "\\newcommand{\\dza}{{\\ddot{a}_z}}\n",
    "\\newcommand{\\ddza}{{\\ddot{a}_z}}\n",
    "\\newcommand{\\xazero}{{a_{x,0}}}\n",
    "\\newcommand{\\aref}{a_\\mathrm{ref}}\n",
    "\\newcommand{\\daref}{\\dot{a}_\\mathrm{ref}}\n",
    "\\newcommand{\\arefcon}{{\\aref^*}}\n",
    "\\newcommand{\\darefcon}{{\\daref^*}}\n",
    "\\newcommand{\\azero}{{a_0}}\n",
    "\\newcommand{\\azeroincon}{{a_0^{\\sim}}}\n",
    "\\newcommand{\\damax}{\\dot{a}_\\mathrm{max}}\n",
    "\\newcommand{\\ddamax}{\\ddot{a}_\\mathrm{max}}\n",
    "\\newcommand{\\vvareftext}{tangent reference velocity\\xspace}\n",
    "\\newcommand{\\areftext}{agent reference\\xspace}\n",
    "\\newcommand{\\refcontext}{consistent\\xspace}\n",
    "\\newcommand{\\refincontext}{inconsistent\\xspace}\n",
    "\\newcommand{\\refcontextup}{Consistent\\xspace}$"
   ]
  },
  {
   "cell_type": "markdown",
   "metadata": {},
   "source": [
    "## Theorem 4.1.1 (Chapman's Proof) "
   ]
  },
  {
   "cell_type": "markdown",
   "metadata": {},
   "source": [
    "We begin by formalizing the ball's trajectory. We assume that it is a parabola, parametrized by initial ball throwing velocity $V$, throwing angle $\\theta$ and initial height $y_{b,0}$:\n",
    "\\begin{align}\n",
    "  b_x(t) &= \\nu \\cos(\\varphi) t + b_{x,0},\\\\\n",
    "  b_y(t) &= \\nu \\sin(\\varphi) t - \\frac{1}{2} g t^2 + b_{y,0}.\n",
    "\\end{align}\n",
    "W.l.o.g. we assume $b_x(0)=b_{x,0}=:=0$ and $b_y(0)=b_{y,0} \\geq 0$."
   ]
  },
  {
   "cell_type": "markdown",
   "metadata": {},
   "source": [
    "We compute the impact time $T$ and the impact position (or ball range) $R$:\n"
   ]
  },
  {
   "cell_type": "code",
   "execution_count": 5,
   "metadata": {
    "collapsed": false
   },
   "outputs": [
    {
     "data": {
      "image/png": "[encoded data removed]",
      "text/latex": [
       "$$\\frac{1}{g} \\left(\\nu \\sin{\\left (\\varphi \\right )} + \\sqrt{\\nu^{2} \\sin^{2}{\\left (\\varphi \\right )} + 2.0 b_{y0} g}\\right)$$"
      ],
      "text/plain": [
       "                      ___________________________________\n",
       "                     ╱    2    2                         \n",
       "\\nu⋅sin(\\varphi) + ╲╱  \\nu ⋅sin (\\varphi) + 2.0⋅b_{y0}⋅g \n",
       "─────────────────────────────────────────────────────────\n",
       "                            g                            "
      ]
     },
     "execution_count": 5,
     "metadata": {},
     "output_type": "execute_result"
    }
   ],
   "source": [
    "T"
   ]
  },
  {
   "cell_type": "code",
   "execution_count": 6,
   "metadata": {
    "collapsed": false
   },
   "outputs": [
    {
     "data": {
      "image/png": "[encoded data removed]",
      "text/latex": [
       "$$\\frac{\\nu}{g} \\left(\\nu \\sin{\\left (\\varphi \\right )} + \\sqrt{\\nu^{2} \\sin^{2}{\\left (\\varphi \\right )} + 2.0 b_{y0} g}\\right) \\cos{\\left (\\varphi \\right )}$$"
      ],
      "text/plain": [
       "    ⎛                      ___________________________________⎞             \n",
       "    ⎜                     ╱    2    2                         ⎟             \n",
       "\\nu⋅⎝\\nu⋅sin(\\varphi) + ╲╱  \\nu ⋅sin (\\varphi) + 2.0⋅b_{y0}⋅g ⎠⋅cos(\\varphi)\n",
       "────────────────────────────────────────────────────────────────────────────\n",
       "                                     g                                      "
      ]
     },
     "execution_count": 6,
     "metadata": {},
     "output_type": "execute_result"
    }
   ],
   "source": [
    "R"
   ]
  },
  {
   "cell_type": "markdown",
   "metadata": {},
   "source": [
    "In the following we will inspect the case $b_{y,0}=0$ \n",
    "\n",
    "Then the previous expressions simplify to:\n",
    "\n",
    "$T=$"
   ]
  },
  {
   "cell_type": "code",
   "execution_count": 7,
   "metadata": {
    "collapsed": false
   },
   "outputs": [
    {
     "data": {
      "image/png": "[encoded data removed]",
      "text/latex": [
       "$$\\frac{2 \\nu}{g} \\sin{\\left (\\varphi \\right )}$$"
      ],
      "text/plain": [
       "2⋅\\nu⋅sin(\\varphi)\n",
       "──────────────────\n",
       "        g         "
      ]
     },
     "execution_count": 7,
     "metadata": {},
     "output_type": "execute_result"
    }
   ],
   "source": [
    "T = zero_yb0(T)\n",
    "T"
   ]
  },
  {
   "cell_type": "markdown",
   "metadata": {},
   "source": [
    "$R=$"
   ]
  },
  {
   "cell_type": "code",
   "execution_count": 8,
   "metadata": {
    "collapsed": false
   },
   "outputs": [
    {
     "data": {
      "image/png": "[encoded data removed]",
      "text/latex": [
       "$$\\frac{\\nu^{2}}{g} \\sin{\\left (2 \\varphi \\right )}$$"
      ],
      "text/plain": [
       "   2               \n",
       "\\nu ⋅sin(2⋅\\varphi)\n",
       "───────────────────\n",
       "         g         "
      ]
     },
     "execution_count": 8,
     "metadata": {},
     "output_type": "execute_result"
    }
   ],
   "source": [
    "R = zero_yb0(R)\n",
    "R"
   ]
  },
  {
   "cell_type": "markdown",
   "metadata": {},
   "source": [
    "We now relate the tangent reference velocity $\\vvaref$ to the motion of agent and ball, i.e. $\\dvva=0$.\n",
    "\n",
    "<i>Ansatz</i>: Assume $\\tan \\alpha$ as seen by the agent is a linear function with constant slope $\\vvaref$.\n",
    "\\begin{align}\n",
    "\\frac{\\yb(t)}{\\aref(t)-\\xb(t)} &= \\vvaref t + \\vva_{0} \\\\\n",
    "&= \\vvaref\\ t + \\frac{\\ybzero}{\\azero}  \\qquad (1).\n",
    "\\end{align}\n",
    "with $\\aref(0)=\\azero \\neq 0$, $\\xb(0)=0$. "
   ]
  },
  {
   "cell_type": "markdown",
   "metadata": {},
   "source": [
    "<!--\n",
    "When does this equation have a solution for $rv$ or $a(t)$? \n",
    "\n",
    "<ul>\n",
    "<li>$t=0, y_{b,0}=0$<br/>\n",
    "If $y_b(0)=y_{b,0}=0$, we get $0=0$ so we get infinitely many solutions. \n",
    "</li>\n",
    "<li>$t=0, y_{b,0}\\neq0$<br/>\n",
    "We do not get a solution for $rv$ but we get $\\frac{y_b(t)}{a(t)-x_b(t)} = \\frac{y_{b,0}}{a_0}$ which is true by assumption. \n",
    "</li>\n",
    "<li>$t>0, y_b(t)=0, y_{b,0}=0$<br/>\n",
    "Since $y_b$ has only two null points, $t=T$. Now depending on $a(T)$ either $rv$ is undefined (if $a(T)=R$) or $rv=0$. WHY?\n",
    "</li>\n",
    "<li>$t=T, y_{b,0}=0$<br/>\n",
    "Equivalent to last case. \n",
    "</li>\n",
    "</ul>\n",
    "-->\n",
    "\n",
    "<!--\n",
    "Note that this equation has infinitely many solutions for $t=0$.\n",
    "\n",
    "We see that this equation is undefined when $a_0=0$, i.e. when the agent and the ball are at the same horizontal position at time $t=0$.\n",
    "-->"
   ]
  },
  {
   "cell_type": "code",
   "execution_count": 9,
   "metadata": {
    "collapsed": false
   },
   "outputs": [],
   "source": [
    "# Set-up Eq.(1) \n",
    "\n",
    "a0 = sp.symbols(\"a_0\")\n",
    "a = sp.Function(r\"\\aref\")(t)\n",
    "\n",
    "# we know rv0 = yb(0)/(a(0)-xb) = yb(0)/a(0) = yb0/a0   (since xb=0)\n",
    "rv0 = yb0/a0\n",
    "\n",
    "tan_alpha_eq =  yb/(a-xb)\n",
    "linear_rv_eq = rv*t + rv0\n",
    "eq = tan_alpha_eq - linear_rv_eq"
   ]
  },
  {
   "cell_type": "markdown",
   "metadata": {},
   "source": [
    "We now solve this Eq. (1) for $\\aref(t)$ and verify that $\\aref(T) = R$.\n",
    "\n",
    "$\\aref(t)=$"
   ]
  },
  {
   "cell_type": "code",
   "execution_count": 10,
   "metadata": {
    "collapsed": false
   },
   "outputs": [
    {
     "name": "stderr",
     "output_type": "stream",
     "text": [
      "/Users/Hoefer/anaconda/lib/python2.7/site-packages/matplotlib/font_manager.py:1288: UserWarning: findfont: Font family [u'sans-serif'] not found. Falling back to Bitstream Vera Sans\n",
      "  (prop.get_family(), self.defaultFamily[fontext]))\n"
     ]
    },
    {
     "data": {
      "text/latex": [
       "$$\\frac{1}{\\vvaref} \\left(\\nu \\vvaref t \\cos{\\left (\\varphi \\right )} + \\nu \\sin{\\left (\\varphi \\right )} - 0.5 g t\\right)$$"
      ],
      "text/plain": [
       "\\nu⋅\\vvaref⋅t⋅cos(\\varphi) + \\nu⋅sin(\\varphi) - 0.5⋅g⋅t\n",
       "───────────────────────────────────────────────────────\n",
       "                        \\vvaref                        "
      ]
     },
     "execution_count": 10,
     "metadata": {},
     "output_type": "execute_result"
    }
   ],
   "source": [
    "#a_expr = sp.solve(eq, a)[0]\n",
    "a_expr = sp.solve(zero_yb0(eq), a)[0]\n",
    "#print sp.latex(a_expr)\n",
    "a_expr"
   ]
  },
  {
   "cell_type": "code",
   "execution_count": 11,
   "metadata": {
    "collapsed": false
   },
   "outputs": [],
   "source": [
    "# agent at terminal time\n",
    "#sp.simplify(a_expr.subs(t, zero_yb0(T)))"
   ]
  },
  {
   "cell_type": "markdown",
   "metadata": {},
   "source": [
    "$\\aref(T) - R=$"
   ]
  },
  {
   "cell_type": "code",
   "execution_count": 12,
   "metadata": {
    "collapsed": false
   },
   "outputs": [
    {
     "data": {
      "image/png": "[encoded data removed]",
      "text/latex": [
       "$$0$$"
      ],
      "text/plain": [
       "0"
      ]
     },
     "execution_count": 12,
     "metadata": {},
     "output_type": "execute_result"
    }
   ],
   "source": [
    "sp.simplify(a_expr.subs(t, T) - R)"
   ]
  },
  {
   "cell_type": "markdown",
   "metadata": {},
   "source": [
    "$a(0)=$"
   ]
  },
  {
   "cell_type": "code",
   "execution_count": 13,
   "metadata": {
    "collapsed": false
   },
   "outputs": [
    {
     "data": {
      "text/latex": [
       "$$\\frac{\\nu}{\\vvaref} \\sin{\\left (\\varphi \\right )}$$"
      ],
      "text/plain": [
       "\\nu⋅sin(\\varphi)\n",
       "────────────────\n",
       "    \\vvaref     "
      ]
     },
     "execution_count": 13,
     "metadata": {},
     "output_type": "execute_result"
    }
   ],
   "source": [
    "sp.simplify(a_expr.subs(t, 0))\n",
    "#a_expr.subs(t, 0)"
   ]
  },
  {
   "cell_type": "markdown",
   "metadata": {},
   "source": [
    "That shows that $\\aref(T) = R$. We can verify that this holds in the limit, too."
   ]
  },
  {
   "cell_type": "markdown",
   "metadata": {},
   "source": [
    "Assume $\\ybzero=0$ and $t=T-\\delta$, i.e. shortly before impact. How far is the agent away from impact point $R$?"
   ]
  },
  {
   "cell_type": "code",
   "execution_count": 14,
   "metadata": {
    "collapsed": false
   },
   "outputs": [
    {
     "data": {
      "text/latex": [
       "$$- 1.0 \\nu \\delta \\cos{\\left (\\varphi \\right )} + \\frac{0.5 \\delta}{\\vvaref} g$$"
      ],
      "text/plain": [
       "                          0.5⋅δ⋅g\n",
       "-1.0⋅\\nu⋅δ⋅cos(\\varphi) + ───────\n",
       "                          \\vvaref"
      ]
     },
     "execution_count": 14,
     "metadata": {},
     "output_type": "execute_result"
    }
   ],
   "source": [
    "delta = sp.symbols(\"delta\")\n",
    "ateps_m_R = sp.simplify(zero_yb0(a_expr.subs(t, T-delta) - R))\n",
    "#ateps_m_R = sp.simplify(a_expr.subs(t, T-delta) - R)\n",
    "##print sp.latex(ateps_m_R)\n",
    "ateps_m_R\n",
    "#sp.limit(ateps_m_R, delta, 0)\n"
   ]
  },
  {
   "cell_type": "code",
   "execution_count": 15,
   "metadata": {
    "collapsed": false
   },
   "outputs": [
    {
     "data": {
      "text/latex": [
       "$$\\delta \\left(- \\nu \\cos{\\left (\\varphi \\right )} + \\frac{0.5 g}{\\vvaref}\\right)$$"
      ],
      "text/plain": [
       "  ⎛                     0.5⋅g ⎞\n",
       "δ⋅⎜-\\nu⋅cos(\\varphi) + ───────⎟\n",
       "  ⎝                    \\vvaref⎠"
      ]
     },
     "execution_count": 15,
     "metadata": {},
     "output_type": "execute_result"
    }
   ],
   "source": [
    "# re-arrange\n",
    "ateps_m_R = sp.simplify(zero_yb0(a_expr.subs(t, T-delta) - R))\n",
    "ateps_m_R2 = delta * (-V*sp.cos(theta) + 0.5*g/rv)\n",
    "assert(sp.simplify(ateps_m_R2-ateps_m_R) == 0.)\n",
    "##print sp.latex(ateps_m_R2)\n",
    "ateps_m_R2"
   ]
  },
  {
   "cell_type": "markdown",
   "metadata": {},
   "source": [
    "$= \\aref(T-\\delta) - R$. We see that $\\delta$ is multiplied with a constant expression which depends on $\\vvaref$. Hence, for $\\delta \\rightarrow 0: |\\aref(T-\\delta)-R| \\rightarrow 0$.\n",
    "\n",
    "However, we still need to make sure to choose $\\vvaref$ s.t. $\\aref(0)=a_0$."
   ]
  },
  {
   "cell_type": "markdown",
   "metadata": {},
   "source": [
    "## Lemma 4.1.2 \n",
    "\n",
    "If we use Chapman's result, the *consistent* tangent velocity reference computes as $\\vvarefcon=$"
   ]
  },
  {
   "cell_type": "code",
   "execution_count": 16,
   "metadata": {
    "collapsed": false
   },
   "outputs": [
    {
     "data": {
      "image/png": "[encoded data removed]",
      "text/latex": [
       "$$\\frac{\\nu}{a_{0}} \\sin{\\left (\\varphi \\right )}$$"
      ],
      "text/plain": [
       "\\nu⋅sin(\\varphi)\n",
       "────────────────\n",
       "       a₀       "
      ]
     },
     "execution_count": 16,
     "metadata": {},
     "output_type": "execute_result"
    }
   ],
   "source": [
    "rv_opt = sp.solve(zero_yb0(a_expr-a0).subs(t,0), rv)[0]\n",
    "rv_opt"
   ]
  },
  {
   "cell_type": "markdown",
   "metadata": {},
   "source": [
    "and plug this into $\\aref(\\delta)$, i.e. shortly after the ball is thrown, we obtain:"
   ]
  },
  {
   "cell_type": "code",
   "execution_count": 17,
   "metadata": {
    "collapsed": false
   },
   "outputs": [
    {
     "data": {
      "image/png": "[encoded data removed]",
      "text/latex": [
       "$$a_{0} + \\delta \\left(\\nu \\cos{\\left (\\varphi \\right )} - \\frac{a_{0} g}{2 \\nu \\sin{\\left (\\varphi \\right )}}\\right)$$"
      ],
      "text/plain": [
       "       ⎛                          a₀⋅g       ⎞\n",
       "a₀ + δ⋅⎜\\nu⋅cos(\\varphi) - ──────────────────⎟\n",
       "       ⎝                   2⋅\\nu⋅sin(\\varphi)⎠"
      ]
     },
     "execution_count": 17,
     "metadata": {},
     "output_type": "execute_result"
    }
   ],
   "source": [
    "a_delta_raw = zero_yb0(a_expr.subs(t, delta).subs(rv, rv_opt))\n",
    "# re-arrange\n",
    "a_delta = a0 + delta * (V*sp.cos(theta) - a0*g/(2*V*sp.sin(theta)))\n",
    "assert (sp.simplify(a_delta - a_delta_raw) == 0.)\n",
    "a_delta"
   ]
  },
  {
   "cell_type": "markdown",
   "metadata": {},
   "source": [
    "As $\\delta \\rightarrow 0$ only the term $a_0$ remains."
   ]
  },
  {
   "cell_type": "markdown",
   "metadata": {},
   "source": [
    "## Lemma 4.1.3"
   ]
  },
  {
   "cell_type": "markdown",
   "metadata": {},
   "source": [
    "So there exists a unique $\\vvaref$ which fulfills the constraints $\\aref(0)=a_0, \\aref(T)=R$. \n",
    "\n",
    "What does the *consistent* agent reference trajectory $\\arefcon(t)$ look like?"
   ]
  },
  {
   "cell_type": "code",
   "execution_count": 18,
   "metadata": {
    "collapsed": false
   },
   "outputs": [
    {
     "data": {
      "image/png": "[encoded data removed]",
      "text/latex": [
       "$$\\frac{a_{0}}{\\nu \\sin{\\left (\\varphi \\right )}} \\left(\\frac{\\nu^{2} t}{a_{0}} \\sin{\\left (\\varphi \\right )} \\cos{\\left (\\varphi \\right )} + \\nu \\sin{\\left (\\varphi \\right )} - 0.5 g t\\right)$$"
      ],
      "text/plain": [
       "   ⎛   2                                                         ⎞\n",
       "   ⎜\\nu ⋅t⋅sin(\\varphi)⋅cos(\\varphi)                             ⎟\n",
       "a₀⋅⎜──────────────────────────────── + \\nu⋅sin(\\varphi) - 0.5⋅g⋅t⎟\n",
       "   ⎝               a₀                                            ⎠\n",
       "──────────────────────────────────────────────────────────────────\n",
       "                         \\nu⋅sin(\\varphi)                         "
      ]
     },
     "execution_count": 18,
     "metadata": {},
     "output_type": "execute_result"
    }
   ],
   "source": [
    "#at_rvstar_yb0_zero = a_delta.subs(delta, t)\n",
    "#print sp.latex(at_rvstar_yb0_zero)\n",
    "#at_rvstar_yb0_zero\n",
    "\n",
    "at_rvstar_yb0_zero = a_expr.subs(rv, rv_opt)\n",
    "##print sp.latex(at_rvstar_yb0_zero)\n",
    "at_rvstar_yb0_zero"
   ]
  },
  {
   "cell_type": "markdown",
   "metadata": {},
   "source": [
    "$=\\arefcon(t)$. We see that its derivative is constant:"
   ]
  },
  {
   "cell_type": "code",
   "execution_count": 19,
   "metadata": {
    "collapsed": false
   },
   "outputs": [
    {
     "data": {
      "image/png": "[encoded data removed]",
      "text/latex": [
       "$$1.0 \\nu \\cos{\\left (\\varphi \\right )} - \\frac{0.5 a_{0} g}{\\nu \\sin{\\left (\\varphi \\right )}}$$"
      ],
      "text/plain": [
       "                           0.5⋅a₀⋅g    \n",
       "1.0⋅\\nu⋅cos(\\varphi) - ────────────────\n",
       "                       \\nu⋅sin(\\varphi)"
      ]
     },
     "execution_count": 19,
     "metadata": {},
     "output_type": "execute_result"
    }
   ],
   "source": [
    "#adot0 = zero_yb0( (R - a0 ) / T)\n",
    "at_rvstar_yb0_zero_diff = sp.diff(at_rvstar_yb0_zero, t)\n",
    "at_rvstar_yb0_zero_diff = sp.simplify(at_rvstar_yb0_zero_diff)\n",
    "##print sp.latex(at_rvstar_yb0_zero_diff)\n",
    "at_rvstar_yb0_zero_diff\n",
    "#sp.simplify(at_rvstar_yb0_zero_diff - adot0)"
   ]
  },
  {
   "cell_type": "markdown",
   "metadata": {
    "collapsed": false
   },
   "source": [
    "$= \\darefcon$.\n",
    "\n",
    "It corresponds to the velocity the agent needs to arrive at $R$ at time $T$ starting at $a_0$ at time $t=0$, which is $\\frac{R-a_0}{T}$:"
   ]
  },
  {
   "cell_type": "code",
   "execution_count": 20,
   "metadata": {
    "collapsed": false
   },
   "outputs": [
    {
     "data": {
      "image/png": "[encoded data removed]",
      "text/latex": [
       "$$0$$"
      ],
      "text/plain": [
       "0"
      ]
     },
     "execution_count": 20,
     "metadata": {},
     "output_type": "execute_result"
    }
   ],
   "source": [
    "adot0 = zero_yb0( (R - a0 ) / T)\n",
    "sp.simplify(at_rvstar_yb0_zero_diff - adot0)"
   ]
  },
  {
   "cell_type": "markdown",
   "metadata": {},
   "source": [
    "This shows that the consistent agent reference trajectory is constant.\n",
    "\n",
    "Note that this result is similar to (Chapman, 1968), Eq. (9)."
   ]
  },
  {
   "cell_type": "markdown",
   "metadata": {},
   "source": [
    "### Figure 4.1:  Plotting $\\vvaref$"
   ]
  },
  {
   "cell_type": "markdown",
   "metadata": {},
   "source": [
    "Given this expression we can now plot what the consistent $\\vvarefcon$ for reaching the target looks like, with varying throwing angle $\\nu$ and distance from impact point $d = -R+a_0$. We keep the throwing angle fixed at $\\varphi=\\frac{\\pi}{4}$ since it is only a scaling factor ($\\sin \\frac{\\pi}{4} \\approx 0.7$):"
   ]
  },
  {
   "cell_type": "code",
   "execution_count": 21,
   "metadata": {
    "collapsed": false
   },
   "outputs": [
    {
     "name": "stderr",
     "output_type": "stream",
     "text": [
      "/Users/Hoefer/anaconda/lib/python2.7/site-packages/matplotlib/figure.py:1744: UserWarning: This figure includes Axes that are not compatible with tight_layout, so its results might be incorrect.\n",
      "  warnings.warn(\"This figure includes Axes that are not \"\n"
     ]
    },
    {
     "name": "stdout",
     "output_type": "stream",
     "text": [
      "pdfcrop v_r_optimal_pi4.pdf v_r_optimal_pi4.pdf\n"
     ]
    },
    {
     "data": {
      "image/png": "[encoded data removed]",
      "text/plain": [
       "<matplotlib.figure.Figure at 0x10be5d090>"
      ]
     },
     "metadata": {},
     "output_type": "display_data"
    }
   ],
   "source": [
    "#from matplotlib import rcParams\n",
    "#rcParams.update({'figure.subplot.bottom': 0.1})\n",
    "\n",
    "import matplotlib.pyplot as plt\n",
    "\n",
    "from mpl_toolkits.mplot3d import Axes3D\n",
    "\n",
    "#%pylab tk\n",
    "\n",
    "X = np.linspace(-50, 50, 15)  # distance d\n",
    "Y = np.linspace(5, 50, 25)    # ball velocity V \n",
    "\n",
    "expr = rv_opt\n",
    "\n",
    "t_ = 0\n",
    "#theta_ = np.pi/4\n",
    "yb0_ = 0.0\n",
    "\n",
    "for theta_ in [np.pi/4]: #[np.pi/4, np.pi/8, 3*np.pi/8]:\n",
    "\n",
    "    #fig = plt.figure(figsize=(15,10))\n",
    "    fig = plt.figure(figsize=(10,7))\n",
    "    ax = fig.add_subplot(111, projection='3d')\n",
    "\n",
    "\n",
    "    DIFF = np.zeros( (len(X), len(Y)) ) \n",
    "    for i,d_ in enumerate(X):\n",
    "        for j,V_ in enumerate(Y):\n",
    "\n",
    "            R_ = concrete_case(R, V_, theta_, yb0_)\n",
    "            T_ = concrete_case(T, V_, theta_, yb0_)\n",
    "            cc = concrete_case(expr,  V_, theta_, yb0_).subs(t, t_)\n",
    "\n",
    "            val = cc.subs(a0,R_+d_).evalf()\n",
    "            DIFF[i,j] = np.abs(float(val)) if val != sp.zoo else 0.\n",
    "            # clamp diff\n",
    "            DIFF[i,j] = DIFF[i,j] if DIFF[i,j] <= 1 else 1\n",
    "    DIFF = DIFF.T\n",
    "\n",
    "    X,Y = np.meshgrid(X,Y)\n",
    "\n",
    "    vvarefopt = r\"\\dot{\\theta}_\\mathrm{ref}^*\"\n",
    "    \n",
    "    # clamp diff\n",
    "    labels = [r\"\\begin{center}initial distance to \\\\impact point $D$ \\end{center}\",\n",
    "              r\"\\begin{center}initial ball \\\\ velocity $\\nu$ \\end{center}\",\n",
    "              r\"\\begin{center}$%s$\\end{center}\" % vvarefopt ,]\n",
    "\n",
    "    if theta_ == np.pi/8:\n",
    "        pi_str = r\"\\frac{\\pi}{8}\"\n",
    "        pi_slug = \"pi8\"\n",
    "    elif theta_ == np.pi/4:\n",
    "        pi_str = r\"\\frac{\\pi}{4}\"\n",
    "        pi_slug = \"pi4\"\n",
    "    elif theta_ == 3*np.pi/8:\n",
    "        pi_str = r\"\\frac{3\\pi}{8}\"\n",
    "        pi_slug = \"3pi8\"\n",
    "              \n",
    "    title = r\"Consistent $%s$ ($\\nu = %s$)\" % (vvarefopt, pi_str)\n",
    "    ax = plot_surface(fig, ax, title, X, Y, DIFF, labels, zlim=(0,1), contour=False, \n",
    "                                            elev=20., azi=-40.)\n",
    "                                            #elev=15, azi=-135)\n",
    "    ax.zaxis.set_rotate_label(False)\n",
    "    #plt.tight_layout()\n",
    "    \n",
    "    plt.subplots_adjust(top=9.5, bottom=8.5)\n",
    "    plt.tight_layout()\n",
    "    \n",
    "    fn = \"v_r_optimal_%s.pdf\" % pi_slug\n",
    "    plt.savefig(fn,bbox_inches='tight', pad_inches=1.)\n",
    "    pdfcrop(fn)\n",
    "\n",
    "#plt.show()"
   ]
  },
  {
   "cell_type": "markdown",
   "metadata": {},
   "source": [
    "## Lemma 4.1.5: Disturbed Trajectories"
   ]
  },
  {
   "cell_type": "markdown",
   "metadata": {},
   "source": [
    "Although the previous findings give support for Chapman's strategy, they only hold for perfectly parabolic ball trajectories. Realistic ball trajectories are not perfectly parabolic due to random disturbances such as spin and wind or systematic disturbances such as air resistance.  \n",
    "We therefore extend our previous results by showing that all VVA implementations are robust to any additive or multiplicative perturbation of the ball's horizontal component. If we assume that any random or systematic disturbance can be approximated by such perturbations this insight provides evidence that Chapman's strategy successfully copes with realistic ball trajectories.\n",
    "\n",
    "#### Proof\n",
    "\n",
    "We consider arbitrary additive perturbations to the ball trajectory:\n",
    "\n",
    "$\\xb'(t) = \\xb(t) + \\varepsilon(t)$\n",
    "\n",
    "And then we solve for $\\aref(t)$."
   ]
  },
  {
   "cell_type": "code",
   "execution_count": 22,
   "metadata": {
    "collapsed": false
   },
   "outputs": [
    {
     "data": {
      "text/latex": [
       "$$\\frac{1}{\\vvaref} \\left(\\nu \\sin{\\left (\\varphi \\right )} + \\vvaref \\left(\\nu t \\cos{\\left (\\varphi \\right )} + \\varepsilon{\\left (t \\right )}\\right) - 0.5 g t\\right)$$"
      ],
      "text/plain": [
       "\\nu⋅sin(\\varphi) + \\vvaref⋅(\\nu⋅t⋅cos(\\varphi) + varepsilon(t)) - 0.5⋅g⋅t\n",
       "─────────────────────────────────────────────────────────────────────────\n",
       "                                 \\vvaref                                 "
      ]
     },
     "execution_count": 22,
     "metadata": {},
     "output_type": "execute_result"
    }
   ],
   "source": [
    "eps_x = sp.Function(\"varepsilon\")(t)\n",
    "xb_e = xb+eps_x\n",
    "\n",
    "tan_alpha_eq_e =  yb/(a-xb_e)\n",
    "eq_e = tan_alpha_eq_e - linear_rv_eq\n",
    "agent_t_e = sp.solve(zero_yb0(eq_e), a)[0]\n",
    "agent_t_e = sp.simplify(agent_t_e)\n",
    "##print sp.latex(agent_t_e)\n",
    "agent_t_e"
   ]
  },
  {
   "cell_type": "markdown",
   "metadata": {},
   "source": [
    "$= \\aref'(t)$\n",
    "\n",
    "How do the agent trajectory in case of undisturbed and disturbed ball flight relate?"
   ]
  },
  {
   "cell_type": "code",
   "execution_count": 23,
   "metadata": {
    "collapsed": false
   },
   "outputs": [
    {
     "data": {
      "image/png": "[encoded data removed]",
      "text/latex": [
       "$$\\varepsilon{\\left (t \\right )}$$"
      ],
      "text/plain": [
       "varepsilon(t)"
      ]
     },
     "execution_count": 23,
     "metadata": {},
     "output_type": "execute_result"
    }
   ],
   "source": [
    "# undisturbed\n",
    "agent_t = sp.solve(zero_yb0(eq), a)[0]\n",
    "\n",
    "# difference between undisturbed and disturbed trajectory\n",
    "sp.simplify(agent_t_e - agent_t)"
   ]
  },
  {
   "cell_type": "markdown",
   "metadata": {},
   "source": [
    "We see that the disturbed trajectory only differs by $\\varepsilon$. Hence, if the agent compensates the disturbance $\\varepsilon$ in $x$ direction the same guarantees as previously hold: the agent will intercept the ball and $rv$ will remain constant. "
   ]
  },
  {
   "cell_type": "markdown",
   "metadata": {},
   "source": [
    "### Example: Approximating drag (Figure 4.4)"
   ]
  },
  {
   "cell_type": "markdown",
   "metadata": {},
   "source": [
    "As an example, consider a noise term which varies quadratically w.r.t. time. The characteristics of such a type of disturbance are very similar to air resistance trajectories. \n",
    "\n",
    "(We only show this by example; there is no closed-form equation for drag trajectories, therefore we cannot show this analytically.)"
   ]
  },
  {
   "cell_type": "code",
   "execution_count": 24,
   "metadata": {
    "collapsed": false
   },
   "outputs": [],
   "source": [
    "eps_x = sp.Symbol(\"varepsilon\")\n",
    "xb_e = xb+eps_x*t**2"
   ]
  },
  {
   "cell_type": "code",
   "execution_count": 25,
   "metadata": {
    "collapsed": false
   },
   "outputs": [
    {
     "name": "stdout",
     "output_type": "stream",
     "text": [
      "[  0.           0.           0.          23.54665581  23.54665581]\n"
     ]
    },
    {
     "data": {
      "image/png": "[encoded data removed]",
      "text/plain": [
       "<matplotlib.figure.Figure at 0x10b94cbd0>"
      ]
     },
     "metadata": {},
     "output_type": "display_data"
    }
   ],
   "source": [
    "# HELPER FUNCTIONS\n",
    "def ball_trajectory_with_drag(v0, theta, dt, t1):\n",
    "    # drag parameters\n",
    "    mass = 0.15\n",
    "    r = 0.0366\n",
    "    c = 0.5\n",
    "    A = np.pi * r * r\n",
    "    rho = 1.293\n",
    "    global GRAVITY\n",
    "\n",
    "    x = 0\n",
    "    y = 0\n",
    "    vx = v0 * np.cos(theta)\n",
    "    vy = v0 * np.sin(theta)\n",
    "    ax = 0\n",
    "    ay = -GRAVITY\n",
    "\n",
    "    T = np.arange(dt,t1,dt)\n",
    "    X = np.zeros( (T.shape[0]+1, 5) )\n",
    "    X[0,:] = (0, x, y, vx, vy)\n",
    "\n",
    "    print X[0,:]\n",
    "\n",
    "    for i,t in enumerate(T):\n",
    "        x += vx * dt + 0.5*ax*dt*dt\n",
    "        y += vy * dt + 0.5*ay*dt*dt\n",
    "        vx += ax*dt\n",
    "        vy += ay*dt\n",
    "\n",
    "        v = np.array( [vx,vy] ) \n",
    "        ax, ay = [0, -GRAVITY] - v*v * 0.5 * rho * c * A/mass\n",
    "\n",
    "        y = 0.0 if y <= 0 else y\n",
    "\n",
    "        X[i+1,:] = (t, x, y, vx, vy)\n",
    "\n",
    "    return X[:i+1,:]\n",
    "\n",
    "# %pylab inline\n",
    "\n",
    "V_ = 30\n",
    "theta_ = np.pi/4\n",
    "T_ = concrete_case(T, V_, theta_)\n",
    "\n",
    "tau_x, t_range, dt= concrete_trajectory(xb, V_, theta_, T_, 0)\n",
    "tau_y, t_range, dt= concrete_trajectory(yb, V_, theta_, T_, 0)\n",
    "tau_x_eps, t_range, dt= concrete_trajectory(xb_e.subs(eps_x,-1.11), V_, theta_, T_, 0)\n",
    "\n",
    "tau_drag = ball_trajectory_with_drag(V_*1.11, theta_, dt=dt, t1=T_)\n",
    "\n",
    "# import matplotlib\n",
    "# matplotlib.rcParams['ps.useafm'] = True\n",
    "# matplotlib.rcParams['pdf.use14corefonts'] = True\n",
    "# matplotlib.rcParams['text.usetex'] = True\n",
    "# #matplotlib.rcParams['text.latex.preamble'] = [\\\n",
    "#     #r\"\\usepackage{accents}\",]\n",
    "# matplotlib.rcParams['figure.autolayout'] = True\n",
    "\n",
    "# from matplotlib import rc\n",
    "# rc('font',**{'family':'serif','serif':['Computer Modern Roman'], 'size': 30})\n",
    "\n",
    "matplotlib.rcParams['font.size'] = 24\n",
    "\n",
    "plt.figure(figsize=(8,4))\n",
    "plt.plot(tau_x, tau_y, lw=5.0, c=\"k\", ls='-', label=\"Ideal\")\n",
    "plt.plot(tau_drag[:,1], tau_drag[:,2], lw=5.0, c=\"b\", label=\"Drag\")\n",
    "plt.plot(tau_x_eps, tau_y, lw=7.0, c=\"r\", ls='--', label=\"Pseudo-drag\")\n",
    "plt.legend(fontsize=16)#, loc='upper right', bbox_to_anchor=(0.5, 0.5))\n",
    "plt.xlabel(\"x\")\n",
    "plt.ylabel(\"y\")\n",
    "plt.xlim(-5, 130)\n",
    "plt.ylim(0, 25) #np.max(tau_y))\n",
    "\n",
    "plt.savefig(\"pseudo_drag_trajectory.pdf\")"
   ]
  },
  {
   "cell_type": "markdown",
   "metadata": {},
   "source": [
    "We see that the pseudo-drag trajectory (red) which is computed by adding $\\varepsilon(t)=-1.11 t^2$ to $x_b$ is highly similar to a ball trajectory with drag (blue)."
   ]
  },
  {
   "cell_type": "markdown",
   "metadata": {},
   "source": [
    "#### Multiplicative Noise\n",
    "\n",
    "It is similarly easy to show, that multiplicative noise can be compensated by the agent, too."
   ]
  },
  {
   "cell_type": "code",
   "execution_count": 26,
   "metadata": {
    "collapsed": false
   },
   "outputs": [
    {
     "data": {
      "image/png": "[encoded data removed]",
      "text/latex": [
       "$$\\nu t \\left(\\varepsilon{\\left (t \\right )} - 1\\right) \\cos{\\left (\\varphi \\right )}$$"
      ],
      "text/plain": [
       "\\nu⋅t⋅(varepsilon(t) - 1)⋅cos(\\varphi)"
      ]
     },
     "execution_count": 26,
     "metadata": {},
     "output_type": "execute_result"
    }
   ],
   "source": [
    "eps_x = sp.Function(\"varepsilon\")(t)\n",
    "xb_e = xb*eps_x\n",
    "\n",
    "tan_alpha_eq_e =  yb/(a-xb_e)\n",
    "eq_e = tan_alpha_eq_e - linear_rv_eq\n",
    "agent_t_e = sp.solve(zero_yb0(eq_e), a)[0]\n",
    "agent_t_e\n",
    "\n",
    "sp.simplify(agent_t_e - agent_t)"
   ]
  },
  {
   "cell_type": "markdown",
   "metadata": {},
   "source": [
    "Note that these results only hold if the agent does not have any velocity or acceleration constraints which prevent it from executing the action required to compensate the disturbance."
   ]
  },
  {
   "cell_type": "markdown",
   "metadata": {},
   "source": [
    "## Lemma 4.1.4 (Deviating from Consistent $\\vvarefcon$)"
   ]
  },
  {
   "cell_type": "markdown",
   "metadata": {},
   "source": [
    "### Example\n",
    "\n",
    "We have previously shown that for given $a_0$ there exists an $\\vvaref = \\frac{\\nu}{a_0} \\sin \\varphi$ which will result in the agent running towards the impact point with constant speed. But what if given an initial position $a_0$ we use a different $\\vvarefincon \\neq \\vvaref$ for control?"
   ]
  },
  {
   "cell_type": "code",
   "execution_count": 27,
   "metadata": {
    "collapsed": false
   },
   "outputs": [],
   "source": [
    "# CONCRETE EXAMPLE\n",
    "N = 100\n",
    "\n",
    "V_ = 30.\n",
    "theta_ = np.pi/4\n",
    "yb0_ = 1e-15 # 0 is undefined!\n",
    "D_ = 10.\n",
    "\n",
    "eq_yb0 = sympy_sqrt_fix(eq.subs(yb0, yb0_))\n",
    "\n",
    "agent_t = sp.solve(eq, a)[0]\n",
    "\n",
    "R_ = concrete_case(sympy_sqrt_fix(R.subs(yb0, yb0_)), V_, theta_, yb0_)\n",
    "T_ = concrete_case(sympy_sqrt_fix(T.subs(yb0, yb0_)), V_, theta_, yb0_)\n",
    "a0_ = R_+D_ # 5m right of landing point\n",
    "\n",
    "adot0_ = sp.simplify( (R_ - a0_ ) / T_)\n",
    "\n",
    "rv_const_speed_eq = eq_yb0.subs(a, adot0_*t + a0)\n",
    "rv_const_speed_eq = sp.simplify(sp.solve(rv_const_speed_eq, rv)[0])\n",
    "\n",
    "rv_const_speed_ = concrete_case(rv_const_speed_eq, V_, theta_, yb0_).subs(a0, a0_).subs(t,0)\n",
    "agent_tau_const_speed, t_range, dt = concrete_trajectory(agent_t.subs(rv, rv_const_speed_).subs(a0, a0_),  V_, theta_, T_, yb0_)"
   ]
  },
  {
   "cell_type": "markdown",
   "metadata": {},
   "source": [
    "We calculated the consistent reference $\\vvarefcon$ as follows:"
   ]
  },
  {
   "cell_type": "code",
   "execution_count": 28,
   "metadata": {
    "collapsed": false
   },
   "outputs": [
    {
     "data": {
      "image/png": "[encoded data removed]",
      "text/latex": [
       "$$0.20849767127863$$"
      ],
      "text/plain": [
       "0.208497671278630"
      ]
     },
     "execution_count": 28,
     "metadata": {},
     "output_type": "execute_result"
    }
   ],
   "source": [
    "rv_const_speed_"
   ]
  },
  {
   "cell_type": "code",
   "execution_count": 29,
   "metadata": {
    "collapsed": false
   },
   "outputs": [
    {
     "name": "stdout",
     "output_type": "stream",
     "text": [
      "R=91.743119\n"
     ]
    }
   ],
   "source": [
    "print \"R=%f\" % R_"
   ]
  },
  {
   "cell_type": "markdown",
   "metadata": {},
   "source": [
    "We check the first and last steps of the agent's trajectory and see that the agent arrives at the impact point:"
   ]
  },
  {
   "cell_type": "code",
   "execution_count": 30,
   "metadata": {
    "collapsed": false
   },
   "outputs": [
    {
     "data": {
      "text/plain": [
       "(array([101.743119266055, 101.642109165045, 101.541099064035,\n",
       "        101.440088963025, 101.339078862015], dtype=object),\n",
       " array([92.1471596700954, 92.0461495690853, 91.9451394680753,\n",
       "        91.8441293670651, 91.7431192660550], dtype=object))"
      ]
     },
     "execution_count": 30,
     "metadata": {},
     "output_type": "execute_result"
    }
   ],
   "source": [
    "agent_tau_const_speed[:5], agent_tau_const_speed[-5:,]"
   ]
  },
  {
   "cell_type": "markdown",
   "metadata": {},
   "source": [
    "Now we investigate what happens if we alter $\\vvarefcon$ and observe the agent's trajectory using $\\vvarefincon = \\vvarefcon + \\delta$."
   ]
  },
  {
   "cell_type": "code",
   "execution_count": 31,
   "metadata": {
    "collapsed": false
   },
   "outputs": [],
   "source": [
    "N = 1000\n",
    "delta_ = -0.02\n",
    "\n",
    "rv_tilde_ = rv_const_speed_+delta_\n",
    "agent_tau_const_speed_tilde, t_range, dt = concrete_trajectory(agent_t.subs(rv, rv_tilde_).subs(a0, a0_),  V_, theta_, T_, yb0_, N)"
   ]
  },
  {
   "cell_type": "markdown",
   "metadata": {},
   "source": [
    "Again we check the trajectory:"
   ]
  },
  {
   "cell_type": "code",
   "execution_count": 32,
   "metadata": {
    "collapsed": false
   },
   "outputs": [
    {
     "data": {
      "text/plain": [
       "(array([101.743119266055, 112.517462570583, 112.496646595328,\n",
       "        112.475830620073, 112.455014644818], dtype=object),\n",
       " array([91.8263831670752, 91.8055671918202, 91.7847512165651,\n",
       "        91.7639352413101, 91.7431192660550], dtype=object))"
      ]
     },
     "execution_count": 32,
     "metadata": {},
     "output_type": "execute_result"
    }
   ],
   "source": [
    "agent_tau_const_speed_tilde[:5], agent_tau_const_speed_tilde[-5:], "
   ]
  },
  {
   "cell_type": "markdown",
   "metadata": {},
   "source": [
    "Again, the agent reaches the ball - but it moves with very large acceleration in the opposite direction, i.e. <i>away</i> from the ball impact point -  to position $\\azeroincon \\approx 125$. We now show that for starting posiition  $\\azeroincon$, $\\vvarefincon$ would be the optimal reference velocity."
   ]
  },
  {
   "cell_type": "code",
   "execution_count": 33,
   "metadata": {
    "collapsed": false
   },
   "outputs": [
    {
     "data": {
      "image/png": "[encoded data removed]",
      "text/latex": [
       "$$0.188532543757723$$"
      ],
      "text/plain": [
       "0.188532543757723"
      ]
     },
     "execution_count": 33,
     "metadata": {},
     "output_type": "execute_result"
    }
   ],
   "source": [
    "# CONCRETE EXAMPLE\n",
    "N = 1000\n",
    "\n",
    "R_tilde = concrete_case(sympy_sqrt_fix(R.subs(yb0, yb0_)), V_, theta_, yb0_)\n",
    "T_tilde = concrete_case(sympy_sqrt_fix(T.subs(yb0, yb0_)), V_, theta_, yb0_)\n",
    "a0_tilde = agent_tau_const_speed_tilde[1]\n",
    "\n",
    "adot0_tilde = sp.simplify( (R_tilde - a0_tilde ) / T_tilde)\n",
    "\n",
    "rv_const_speed_tilde = concrete_case(rv_const_speed_eq, V_, theta_, yb0_).subs(a0, a0_tilde).subs(t,0)\n",
    "rv_const_speed_tilde"
   ]
  },
  {
   "cell_type": "code",
   "execution_count": 34,
   "metadata": {
    "collapsed": false
   },
   "outputs": [
    {
     "data": {
      "image/png": "[encoded data removed]",
      "text/latex": [
       "$$0.18849767127863$$"
      ],
      "text/plain": [
       "0.188497671278630"
      ]
     },
     "execution_count": 34,
     "metadata": {},
     "output_type": "execute_result"
    }
   ],
   "source": [
    "rv_tilde_"
   ]
  },
  {
   "cell_type": "markdown",
   "metadata": {},
   "source": [
    "In conclusion, we can predict the behavior of an agent that compensates an inconsistent $\\vvaref$. It will run to the corresponding starting position $\\azeroincon$ as fast as possible. It also shows that setting $\\vvaref$ to an arbitrary value such as suggested by (Marken, 2001) can lead to undesired behavior.  \n",
    "\n",
    "Our simulation experiments show that this behavior also occurs when imposing agent velocity and acceleration constraints (see below)."
   ]
  },
  {
   "cell_type": "markdown",
   "metadata": {},
   "source": [
    "### Proof of Lemma 4.1.4 (Using Observed Value of $\\dvva$)"
   ]
  },
  {
   "cell_type": "markdown",
   "metadata": {},
   "source": [
    "Instead of setting $\\vvaref$ to an arbitrary value, how much is the agent off the consistent $\\vvarefcon$ if it observes $\\dvva$ before starting to run and then uses this quantity as an estimate of $\\vvarefcon$?\n",
    "\n",
    "Let us assume the agent can perfectly observe $\\vvarefincon = \\dvva$ after 1% of the trajectory. This would compute as follows:"
   ]
  },
  {
   "cell_type": "code",
   "execution_count": 35,
   "metadata": {
    "collapsed": false
   },
   "outputs": [
    {
     "data": {
      "image/png": "[encoded data removed]",
      "text/latex": [
       "$$- \\frac{\\nu g \\left(\\delta - 1.0\\right) \\sin{\\left (\\varphi \\right )}}{D g - \\delta \\nu^{2} \\sin{\\left (2.0 \\varphi \\right )} + \\nu^{2} \\sin{\\left (2.0 \\varphi \\right )}}$$"
      ],
      "text/plain": [
       "           -\\nu⋅g⋅(\\delta - 1.0)⋅sin(\\varphi)             \n",
       "──────────────────────────────────────────────────────────\n",
       "                2                       2                 \n",
       "D⋅g - \\delta⋅\\nu ⋅sin(2.0⋅\\varphi) + \\nu ⋅sin(2.0⋅\\varphi)"
      ]
     },
     "execution_count": 35,
     "metadata": {},
     "output_type": "execute_result"
    }
   ],
   "source": [
    "D = sp.symbols(\"D\")\n",
    "pc = sp.symbols(\"\\delta\")\n",
    "#pc = 0.01\n",
    "#pc = 0.025\n",
    "T_pc = sympy_sqrt_fix(pc*T.subs(yb0,0)) # t=1% of trajectory\n",
    "\n",
    "# simplify: assume yb0=0\n",
    "eq_yb0 = sympy_sqrt_fix(eq.subs(yb0,0))\n",
    "\n",
    "# real rv at impact point\n",
    "#rv_expr = sp.solve(eq_yb0.subs(a, sympy_sqrt_fix(R.subs(yb0,0))), rv)[0]\n",
    "# rv observed at a0 after 1% of trajectory\n",
    "\n",
    "#rv_expr_pc = sp.simplify(sp.solve(eq_yb0.subs(a, a0).subs(t, T_pc), rv)[0])\n",
    "rv_expr_pc = sp.simplify(sp.solve(eq_yb0.subs(a, zero_yb0(R)+D).subs(t, T_pc), rv)[0])\n",
    "\n",
    "##print (sp.latex(rv_expr_pc))\n",
    "rv_expr_pc"
   ]
  },
  {
   "cell_type": "markdown",
   "metadata": {},
   "source": [
    "$ = \\vvarefincon$\n",
    "\n",
    "($D$ denotes the agent's distance to the impact point)\n",
    "\n",
    "<!--\n",
    "(Why is there an $a_0$ in the equation? Because rv_tilde of course depends on where the agent is standing when observing it - and we assume that the agent did not move yet, therefore there is a0.)\n",
    "-->\n",
    "\n",
    "Let's compute $\\tilde{a}_0$, i.e. the position the agent implicitly assumes to be at when using this rv:"
   ]
  },
  {
   "cell_type": "code",
   "execution_count": 36,
   "metadata": {
    "collapsed": false
   },
   "outputs": [
    {
     "data": {
      "image/png": "[encoded data removed]",
      "text/latex": [
       "$$\\frac{1}{g \\left(\\delta - 1.0\\right)} \\left(- D g + \\delta \\nu^{2} \\sin{\\left (2.0 \\varphi \\right )} - \\nu^{2} \\sin{\\left (2.0 \\varphi \\right )}\\right)$$"
      ],
      "text/plain": [
       "                 2                       2                 \n",
       "-D⋅g + \\delta⋅\\nu ⋅sin(2.0⋅\\varphi) - \\nu ⋅sin(2.0⋅\\varphi)\n",
       "───────────────────────────────────────────────────────────\n",
       "                      g⋅(\\delta - 1.0)                     "
      ]
     },
     "execution_count": 36,
     "metadata": {},
     "output_type": "execute_result"
    }
   ],
   "source": [
    "# old a0\n",
    "a0_expr= sp.solve(rv_opt - rv, a0)[0]\n",
    "\n",
    "# a0_tilde: a0 when using rv_tilde (=rv_expr_pc) instead of rv\n",
    "a0_tilde_expr = sp.simplify(a0_expr.subs(rv, rv_expr_pc))\n",
    "##print (sp.latex(a0_tilde_expr))\n",
    "a0_tilde_expr"
   ]
  },
  {
   "cell_type": "markdown",
   "metadata": {},
   "source": [
    "$= \\azeroincon$.\n",
    "\n",
    "<!--- \n",
    "(Why is there still an $a_0$ in the equation? If rv_tilde depends on a0, also a0_tilde does!)\n",
    "-->\n",
    "\n",
    "Now let's look at the difference $\\azeroincon - \\azero$, i.e. how far the position that the agent implicitly assumes to be at is from the real $\\azero$:"
   ]
  },
  {
   "cell_type": "code",
   "execution_count": 37,
   "metadata": {
    "collapsed": false
   },
   "outputs": [
    {
     "data": {
      "image/png": "[encoded data removed]",
      "text/latex": [
       "$$\\frac{1}{g \\left(\\delta - 1.0\\right)} \\left(- D g + \\delta \\nu^{2} \\sin{\\left (2.0 \\varphi \\right )} - \\nu^{2} \\sin{\\left (2.0 \\varphi \\right )} - a_{0} g \\left(\\delta - 1.0\\right)\\right)$$"
      ],
      "text/plain": [
       "                 2                       2                                    \n",
       "-D⋅g + \\delta⋅\\nu ⋅sin(2.0⋅\\varphi) - \\nu ⋅sin(2.0⋅\\varphi) - a₀⋅g⋅(\\delta - 1\n",
       "──────────────────────────────────────────────────────────────────────────────\n",
       "                                 g⋅(\\delta - 1.0)                             \n",
       "\n",
       "   \n",
       ".0)\n",
       "───\n",
       "   "
      ]
     },
     "execution_count": 37,
     "metadata": {},
     "output_type": "execute_result"
    }
   ],
   "source": [
    "a0_diff =  sp.simplify(a0_tilde_expr - a0_expr)\n",
    "a0_diff =  sp.simplify(a0_diff.subs(rv, rv_opt))\n",
    "\n",
    "a0_diff"
   ]
  },
  {
   "cell_type": "markdown",
   "metadata": {},
   "source": [
    "$= \\azeroincon - \\azero$.\n",
    "\n",
    "Let's substitute $a_0$ by the known position of the agent, namely $R+D$:"
   ]
  },
  {
   "cell_type": "code",
   "execution_count": 38,
   "metadata": {
    "collapsed": false
   },
   "outputs": [
    {
     "data": {
      "image/png": "[encoded data removed]",
      "text/latex": [
       "$$\\frac{1}{g \\left(\\delta - 1.0\\right)} \\left(- D g + \\delta \\nu^{2} \\sin{\\left (2.0 \\varphi \\right )} - \\nu^{2} \\sin{\\left (2.0 \\varphi \\right )} + \\left(- \\delta + 1.0\\right) \\left(D g + \\nu^{2} \\sin{\\left (2 \\varphi \\right )}\\right)\\right)$$"
      ],
      "text/plain": [
       "                 2                       2                                    \n",
       "-D⋅g + \\delta⋅\\nu ⋅sin(2.0⋅\\varphi) - \\nu ⋅sin(2.0⋅\\varphi) + (-\\delta + 1.0)⋅\n",
       "──────────────────────────────────────────────────────────────────────────────\n",
       "                                             g⋅(\\delta - 1.0)                 \n",
       "\n",
       "⎛         2               ⎞\n",
       "⎝D⋅g + \\nu ⋅sin(2⋅\\varphi)⎠\n",
       "───────────────────────────\n",
       "                           "
      ]
     },
     "execution_count": 38,
     "metadata": {},
     "output_type": "execute_result"
    }
   ],
   "source": [
    "a0_diff_D = sp.simplify(a0_diff.subs(a0, zero_yb0(R) + D))\n",
    "a0_diff_D\n"
   ]
  },
  {
   "cell_type": "markdown",
   "metadata": {},
   "source": [
    "We can further simplify that:"
   ]
  },
  {
   "cell_type": "code",
   "execution_count": 39,
   "metadata": {
    "collapsed": false
   },
   "outputs": [
    {
     "data": {
      "image/png": "[encoded data removed]",
      "text/latex": [
       "$$\\frac{D \\delta}{- \\delta + 1.0}$$"
      ],
      "text/plain": [
       "   D⋅\\delta  \n",
       "─────────────\n",
       "-\\delta + 1.0"
      ]
     },
     "execution_count": 39,
     "metadata": {},
     "output_type": "execute_result"
    }
   ],
   "source": [
    "a0_diff_D = a0_diff_D.subs(sp.sin(2.0*theta), sp.sin(2*theta)) # some sympy bug?\n",
    "a0_diff_D\n",
    "\n",
    "a0_diff_D2 = a0_diff_D\n",
    "a0_diff_D = pc*D / (1.0-pc)\n",
    "\n",
    "assert (sp.simplify(a0_diff_D - a0_diff_D2) == 0)\n",
    "\n",
    "a0_diff_D"
   ]
  },
  {
   "cell_type": "markdown",
   "metadata": {},
   "source": [
    "$= \\azeroincon - \\azero$.\n",
    "\n",
    "This means that the offset that the agent will try to compensate by running does not depend on the initial angle or velocity of the ball. It only depends on how far the agent is from the impact point and how long it waits."
   ]
  },
  {
   "cell_type": "markdown",
   "metadata": {},
   "source": [
    "#### Figure 4.3"
   ]
  },
  {
   "cell_type": "code",
   "execution_count": 40,
   "metadata": {
    "collapsed": false
   },
   "outputs": [
    {
     "data": {
      "image/png": "[encoded data removed]",
      "text/plain": [
       "<matplotlib.figure.Figure at 0x10f4f5c50>"
      ]
     },
     "metadata": {},
     "output_type": "display_data"
    }
   ],
   "source": [
    "#pc_ = np.linspace(0,1, 50)\n",
    "pc_ = 0.01\n",
    "D_ = np.linspace(-50, 50, 5)\n",
    "\n",
    "matplotlib.rcParams['font.size'] = 24\n",
    "plt.figure(figsize=(10,6))\n",
    "plt.plot( D_, [ a0_diff_D.subs(pc, 0.01).subs(D, D__).evalf() for D__ in D_], lw=3.0, label=\"$\\delta=1\\%$\" )\n",
    "plt.plot( D_, [ a0_diff_D.subs(pc, 0.05).subs(D, D__).evalf() for D__ in D_], lw=3.0, label=\"$\\delta=5\\%$\"  )\n",
    "plt.plot( D_, [ a0_diff_D.subs(pc, 0.1).subs(D, D__).evalf() for D__ in D_], lw=3.0, label=\"$\\delta=10\\%$\"  )\n",
    "plt.xlabel(\"$D$\")\n",
    "plt.ylabel(r\"${a_0^{\\sim}} - a_0$\")\n",
    "plt.xlim([-50,50])\n",
    "plt.title(\"Consistent vs. inconsistent initial agent position\")\n",
    "plt.legend(loc=2, fontsize=24)\n",
    "\n",
    "plt.tight_layout()\n",
    "plt.savefig(\"tilde_a0_error.pdf\")"
   ]
  },
  {
   "cell_type": "markdown",
   "metadata": {},
   "source": [
    "\n",
    "Let us look at how this value scales with $\\nu$ and $d = R-a_0$ with fixed $\\varphi=\\frac{\\pi}{4}$:"
   ]
  },
  {
   "cell_type": "code",
   "execution_count": 42,
   "metadata": {
    "collapsed": false
   },
   "outputs": [
    {
     "data": {
      "image/png": "[encoded data removed]",
      "text/plain": [
       "<matplotlib.figure.Figure at 0x110c0fc90>"
      ]
     },
     "metadata": {},
     "output_type": "display_data"
    }
   ],
   "source": [
    "import matplotlib.pyplot as plt\n",
    "from mpl_toolkits.mplot3d import Axes3D\n",
    "\n",
    "#%pylab tk\n",
    "#%pylab inline\n",
    "\n",
    "fig = plt.figure(figsize=(15,10))\n",
    "ax = fig.add_subplot(111, projection='3d')\n",
    "\n",
    "X = np.linspace(-50, 50, 20)  # distance d\n",
    "Y = np.linspace(5, 50, 20)    # ball velocity V \n",
    "\n",
    "t_ = pc\n",
    "#theta_ = np.pi/4\n",
    "theta_ = 3*np.pi/8\n",
    "yb0_ = 0.0\n",
    "pc_ = 0.01\n",
    "\n",
    "DIFF = np.zeros( (len(X), len(Y)) ) \n",
    "ZERO = np.zeros( (len(X), len(Y)) ) \n",
    "\n",
    "for i,d_ in enumerate(X):\n",
    "    for j,V_ in enumerate(Y):\n",
    "\n",
    "        R_ = concrete_case(R, V_, theta_, yb0_)\n",
    "        T_ = concrete_case(T, V_, theta_, yb0_)\n",
    "#        cc = concrete_case(rv_diff,  V_, theta_, yb0_).subs(t, t_)\n",
    "#        cc = concrete_case(a0_diff,  V_, theta_, yb0_).subs(t, t_)\n",
    "        cc = concrete_case(a0_diff_D,  V_, theta_, yb0_).subs(t, t_)\n",
    "        cc = cc.subs(pc, pc_)\n",
    "\n",
    "        #DIFF[i,j] = float(cc.subs(dist0,d_).subs(t,t_))\n",
    "#         if np.abs(d_) >= R_:\n",
    "#             DIFF[i,j] = 1. #np.nan\n",
    "        if True:\n",
    "            #val = cc.subs(a0,R_+d_).evalf()\n",
    "            val = cc.subs(D,d_).evalf()\n",
    "            #DIFF[i,j] = np.abs(float(val)) if val != sp.zoo else 0.\n",
    "            DIFF[i,j] = float(val) if val != sp.zoo else 0.\n",
    "            # clamp diff\n",
    "            #DIFF[i,j] = DIFF[i,j] if DIFF[i,j] <= 1 else 1\n",
    "DIFF = DIFF.T\n",
    "    \n",
    "X,Y = np.meshgrid(X,Y)\n",
    "\n",
    "# clamp diff\n",
    "    \n",
    "p = ax.plot_surface(X,Y, DIFF, rstride=1, cstride=1, cmap=plt.cm.coolwarm, linewidth=0.3, antialiased=False, alpha=0.9)\n",
    "#cb = fig.colorbar(p, shrink=0.5)\n",
    "ax.set_xlabel(\"$R - a_0$\")\n",
    "ax.set_ylabel(r\"$\\nu$\")\n",
    "ax.set_zlabel(r\"$\\tilde{a}_0 - a_0$\")\n",
    "#ax.set_zlim3d(0, 1)\n",
    "ax.set_zlim3d(-0.5, 0.5)\n",
    "\n",
    "p = ax.plot_surface(X,Y, ZERO, rstride=1, cstride=1, cmap=plt.cm.coolwarm, antialiased=False,\n",
    "                    alpha=0.25, linewidth=0.0)\n",
    "\n",
    "\n",
    "Z = DIFF\n",
    "#if np.min(Z) != np.max(Z):\n",
    "#  cset = ax.contour(X, Y, Z, zdir='z', offset=np.min(Z), cmap=cm.coolwarm)\n",
    "#if np.min(X) != np.max(X):\n",
    "if True:\n",
    "  #cset = ax.contour(X, Y, Z, zdir='x', offset=np.min(X), cmap=cm.coolwarm)\n",
    "  #cset = ax.contour(X, Y, Z, zdir='x', offset=np.max(X), cmap=cm.coolwarm) # project to opposite side\n",
    "#if np.min(Y) != np.max(Y):\n",
    "  #cset = ax.contour(X, Y, Z, zdir='y', offset=np.min(Y), cmap=cm.coolwarm)\n",
    "  cset = ax.contour(X, Y, Z, zdir='y', offset=np.max(Y), cmap=cm.coolwarm) # project to opposite side\n",
    "\n",
    "cb = fig.colorbar(p, shrink=0.75, aspect=20)\n",
    "\n",
    "#ax.view_init(elev=15., azim=45.)\n",
    "ax.view_init(elev=10., azim=-45.)\n",
    "#ax.view_init(elev=1., azim=1.)\n",
    "\n",
    "\n",
    "\n",
    "ax.xaxis._axinfo['label']['space_factor'] = 2.5\n",
    "ax.yaxis._axinfo['label']['space_factor'] = 2.5\n",
    "ax.zaxis._axinfo['label']['space_factor'] = 2.0\n",
    "\n",
    "plt.tight_layout()\n",
    "\n",
    "#plt.savefig(\"a0_tilde_diff.pdf\" % pi_slug)\n",
    "#plt.show()\n"
   ]
  },
  {
   "cell_type": "markdown",
   "metadata": {},
   "source": [
    "<!--\n",
    "We see that the difference between the observed and the \"true\" $rv$ moderately increases with the distance to the target and dramatically increases with low initial velocity $V$. We also see that negative distances $d$ affect $rv$ more than positive distances. Again, this is due to the fact that for negative $d$ the agent is closer to the ball's starting position.\n",
    "\n",
    "To conclude, choosing arbitrary $rv$ at the beginning of the trajectory will usually generate good behavior. However, short ball trajectories with low initial velocity will be hard to catch.\n",
    "-->"
   ]
  },
  {
   "cell_type": "code",
   "execution_count": null,
   "metadata": {
    "collapsed": false
   },
   "outputs": [],
   "source": []
  }
 ],
 "metadata": {
  "anaconda-cloud": {},
  "kernelspec": {
   "display_name": "Python 2",
   "language": "python",
   "name": "python2"
  },
  "language_info": {
   "codemirror_mode": {
    "name": "ipython",
    "version": 2
   },
   "file_extension": ".py",
   "mimetype": "text/x-python",
   "name": "python",
   "nbconvert_exporter": "python",
   "pygments_lexer": "ipython2",
   "version": "2.7.11"
  }
 },
 "nbformat": 4,
 "nbformat_minor": 0
}
